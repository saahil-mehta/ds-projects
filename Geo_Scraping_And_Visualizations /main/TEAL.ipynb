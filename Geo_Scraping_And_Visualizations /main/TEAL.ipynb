{
 "cells": [
  {
   "cell_type": "code",
   "execution_count": 1,
   "metadata": {},
   "outputs": [],
   "source": [
    "import pandas as pd\n",
    "import numpy as np "
   ]
  },
  {
   "cell_type": "code",
   "execution_count": 2,
   "metadata": {},
   "outputs": [],
   "source": [
    "df = pd.read_csv(\"scraped_revision.csv\",)"
   ]
  },
  {
   "cell_type": "code",
   "execution_count": 3,
   "metadata": {},
   "outputs": [
    {
     "data": {
      "text/plain": [
       "(191, 57)"
      ]
     },
     "execution_count": 3,
     "metadata": {},
     "output_type": "execute_result"
    }
   ],
   "source": [
    "df.shape"
   ]
  },
  {
   "cell_type": "code",
   "execution_count": 4,
   "metadata": {},
   "outputs": [
    {
     "data": {
      "text/html": [
       "<div>\n",
       "<style scoped>\n",
       "    .dataframe tbody tr th:only-of-type {\n",
       "        vertical-align: middle;\n",
       "    }\n",
       "\n",
       "    .dataframe tbody tr th {\n",
       "        vertical-align: top;\n",
       "    }\n",
       "\n",
       "    .dataframe thead th {\n",
       "        text-align: right;\n",
       "    }\n",
       "</style>\n",
       "<table border=\"1\" class=\"dataframe\">\n",
       "  <thead>\n",
       "    <tr style=\"text-align: right;\">\n",
       "      <th></th>\n",
       "      <th>Reg.No Name Name Name Name Name Name Name Name Name Name Name Name Name Name Name Name Name Name Name Name</th>\n",
       "      <th>Reg.Date Gender Gender Gender Gender Gender Gender Gender Gender Gender Gender Gender Gender Gender Gender Gender Gender Gender Gender Gender Gender</th>\n",
       "      <th>First Party Address Address Address Address Address Address Address Address Address Address Address Address Address Address Address Address Address Address Address Address</th>\n",
       "      <th>Second Party Name Name Name Name Name Name Name Name Name Name Name Name Name Name Name Name Name Name Name Name</th>\n",
       "      <th>Property Address Gender Gender Gender Gender Gender Gender Gender Gender Gender Gender Gender Gender Gender Gender Gender Gender Gender Gender Gender Gender</th>\n",
       "      <th>Area Address Address Address Address Address Address Address Address Address Address Address Address Address Address Address Address Address Address Address Address</th>\n",
       "      <th>Deed Type</th>\n",
       "      <th>Property Type</th>\n",
       "      <th>Column-8</th>\n",
       "      <th>Column-9</th>\n",
       "      <th>...</th>\n",
       "      <th>Column-47</th>\n",
       "      <th>Column-48</th>\n",
       "      <th>Column-49</th>\n",
       "      <th>Column-50</th>\n",
       "      <th>Reg.No Name Name Name Name Name Name Name Name Name Name Name</th>\n",
       "      <th>Reg.Date Gender Gender Gender Gender Gender Gender Gender Gender Gender Gender Gender</th>\n",
       "      <th>First Party Address Address Address Address Address Address Address Address Address Address Address</th>\n",
       "      <th>Second Party Name Name Name Name Name Name Name Name Name Name Name</th>\n",
       "      <th>Property Address Gender Gender Gender Gender Gender Gender Gender Gender Gender Gender Gender</th>\n",
       "      <th>Area Address Address Address Address Address Address Address Address Address Address Address</th>\n",
       "    </tr>\n",
       "  </thead>\n",
       "  <tbody>\n",
       "    <tr>\n",
       "      <th>0</th>\n",
       "      <td>7.0</td>\n",
       "      <td>01-01-2019</td>\n",
       "      <td>S C KHURANA</td>\n",
       "      <td>S C KHURANA</td>\n",
       "      <td>NaN</td>\n",
       "      <td>S C KHURANA</td>\n",
       "      <td>Male</td>\n",
       "      <td>B-3/93 SAFDARJUNG ENCLAVE ND</td>\n",
       "      <td>AJAY VISHAL</td>\n",
       "      <td>AJAY VISHAL</td>\n",
       "      <td>...</td>\n",
       "      <td>NaN</td>\n",
       "      <td>NaN</td>\n",
       "      <td>NaN</td>\n",
       "      <td>NaN</td>\n",
       "      <td>NaN</td>\n",
       "      <td>NaN</td>\n",
       "      <td>NaN</td>\n",
       "      <td>NaN</td>\n",
       "      <td>NaN</td>\n",
       "      <td>NaN</td>\n",
       "    </tr>\n",
       "    <tr>\n",
       "      <th>1</th>\n",
       "      <td>11.0</td>\n",
       "      <td>02-01-2019</td>\n",
       "      <td>RAJESH KUMAR BHASIN</td>\n",
       "      <td>RAJESH KUMAR BHASIN</td>\n",
       "      <td>NaN</td>\n",
       "      <td>RAJESH  KUMAR BHASIN</td>\n",
       "      <td>Male</td>\n",
       "      <td>A-1/161 GF SAFDARJUNG ENCLAVE ND</td>\n",
       "      <td>MIN HO KIM</td>\n",
       "      <td>MIN HO KIM</td>\n",
       "      <td>...</td>\n",
       "      <td>NaN</td>\n",
       "      <td>NaN</td>\n",
       "      <td>NaN</td>\n",
       "      <td>NaN</td>\n",
       "      <td>NaN</td>\n",
       "      <td>NaN</td>\n",
       "      <td>NaN</td>\n",
       "      <td>NaN</td>\n",
       "      <td>NaN</td>\n",
       "      <td>NaN</td>\n",
       "    </tr>\n",
       "    <tr>\n",
       "      <th>2</th>\n",
       "      <td>20.0</td>\n",
       "      <td>02-01-2019</td>\n",
       "      <td>SANDEEP ARVIND</td>\n",
       "      <td>SANDEEP ARVIND</td>\n",
       "      <td>NaN</td>\n",
       "      <td>SANDEEP ARVIND</td>\n",
       "      <td>Male</td>\n",
       "      <td>A-1/257 G/F SAFDARJUNG ENCLAVE ND</td>\n",
       "      <td>RADHALAKSHMI R</td>\n",
       "      <td>RADHALAKSHMI R</td>\n",
       "      <td>...</td>\n",
       "      <td>NaN</td>\n",
       "      <td>NaN</td>\n",
       "      <td>NaN</td>\n",
       "      <td>NaN</td>\n",
       "      <td>NaN</td>\n",
       "      <td>NaN</td>\n",
       "      <td>NaN</td>\n",
       "      <td>NaN</td>\n",
       "      <td>NaN</td>\n",
       "      <td>NaN</td>\n",
       "    </tr>\n",
       "    <tr>\n",
       "      <th>3</th>\n",
       "      <td>36.0</td>\n",
       "      <td>03-01-2019</td>\n",
       "      <td>LIKHA SAAYA THRU ATT MANOJ KUMAR GULATI</td>\n",
       "      <td>LIKHA SAAYA THRU ATT MANOJ KUMAR GULATI</td>\n",
       "      <td>NaN</td>\n",
       "      <td>LIKHA SAAYA THRU ATT MANOJ KUMAR GULATI</td>\n",
       "      <td>Male</td>\n",
       "      <td>71 ANAND LOK ND</td>\n",
       "      <td>KANUKPRIYA GULATI</td>\n",
       "      <td>KANUKPRIYA GULATI</td>\n",
       "      <td>...</td>\n",
       "      <td>NaN</td>\n",
       "      <td>NaN</td>\n",
       "      <td>NaN</td>\n",
       "      <td>NaN</td>\n",
       "      <td>NaN</td>\n",
       "      <td>NaN</td>\n",
       "      <td>NaN</td>\n",
       "      <td>NaN</td>\n",
       "      <td>NaN</td>\n",
       "      <td>NaN</td>\n",
       "    </tr>\n",
       "    <tr>\n",
       "      <th>4</th>\n",
       "      <td>39.0</td>\n",
       "      <td>03-01-2019</td>\n",
       "      <td>VISHAL JAIRATH</td>\n",
       "      <td>VISHAL JAIRATH</td>\n",
       "      <td>NaN</td>\n",
       "      <td>VISHAL JAIRATH</td>\n",
       "      <td>Male</td>\n",
       "      <td>C-85 TF DEFENCE COLONY ND</td>\n",
       "      <td>ITHIKIA HEALTH SCIENCES LLP THRU CHAND RATAN D...</td>\n",
       "      <td>ITHIKIA HEALTH SCIENCES LLP THRU CHAND RATAN D...</td>\n",
       "      <td>...</td>\n",
       "      <td>NaN</td>\n",
       "      <td>NaN</td>\n",
       "      <td>NaN</td>\n",
       "      <td>NaN</td>\n",
       "      <td>NaN</td>\n",
       "      <td>NaN</td>\n",
       "      <td>NaN</td>\n",
       "      <td>NaN</td>\n",
       "      <td>NaN</td>\n",
       "      <td>NaN</td>\n",
       "    </tr>\n",
       "  </tbody>\n",
       "</table>\n",
       "<p>5 rows × 57 columns</p>\n",
       "</div>"
      ],
      "text/plain": [
       "   Reg.No Name Name Name Name Name Name Name Name Name Name Name Name Name Name Name Name Name Name Name Name  \\\n",
       "0                                                7.0                                                            \n",
       "1                                               11.0                                                            \n",
       "2                                               20.0                                                            \n",
       "3                                               36.0                                                            \n",
       "4                                               39.0                                                            \n",
       "\n",
       "  Reg.Date Gender Gender Gender Gender Gender Gender Gender Gender Gender Gender Gender Gender Gender Gender Gender Gender Gender Gender Gender Gender  \\\n",
       "0                                         01-01-2019                                                                                                     \n",
       "1                                         02-01-2019                                                                                                     \n",
       "2                                         02-01-2019                                                                                                     \n",
       "3                                         03-01-2019                                                                                                     \n",
       "4                                         03-01-2019                                                                                                     \n",
       "\n",
       "  First Party Address Address Address Address Address Address Address Address Address Address Address Address Address Address Address Address Address Address Address Address  \\\n",
       "0                                        S C KHURANA                                                                                                                            \n",
       "1                                RAJESH KUMAR BHASIN                                                                                                                            \n",
       "2                                     SANDEEP ARVIND                                                                                                                            \n",
       "3            LIKHA SAAYA THRU ATT MANOJ KUMAR GULATI                                                                                                                            \n",
       "4                                     VISHAL JAIRATH                                                                                                                            \n",
       "\n",
       "  Second Party Name Name Name Name Name Name Name Name Name Name Name Name Name Name Name Name Name Name Name Name  \\\n",
       "0                                        S C KHURANA                                                                 \n",
       "1                                RAJESH KUMAR BHASIN                                                                 \n",
       "2                                     SANDEEP ARVIND                                                                 \n",
       "3            LIKHA SAAYA THRU ATT MANOJ KUMAR GULATI                                                                 \n",
       "4                                     VISHAL JAIRATH                                                                 \n",
       "\n",
       "   Property Address Gender Gender Gender Gender Gender Gender Gender Gender Gender Gender Gender Gender Gender Gender Gender Gender Gender Gender Gender Gender  \\\n",
       "0                                                NaN                                                                                                              \n",
       "1                                                NaN                                                                                                              \n",
       "2                                                NaN                                                                                                              \n",
       "3                                                NaN                                                                                                              \n",
       "4                                                NaN                                                                                                              \n",
       "\n",
       "  Area Address Address Address Address Address Address Address Address Address Address Address Address Address Address Address Address Address Address Address Address  \\\n",
       "0                                        S C KHURANA                                                                                                                     \n",
       "1                               RAJESH  KUMAR BHASIN                                                                                                                     \n",
       "2                                     SANDEEP ARVIND                                                                                                                     \n",
       "3            LIKHA SAAYA THRU ATT MANOJ KUMAR GULATI                                                                                                                     \n",
       "4                                     VISHAL JAIRATH                                                                                                                     \n",
       "\n",
       "  Deed Type                      Property Type  \\\n",
       "0      Male       B-3/93 SAFDARJUNG ENCLAVE ND   \n",
       "1      Male   A-1/161 GF SAFDARJUNG ENCLAVE ND   \n",
       "2      Male  A-1/257 G/F SAFDARJUNG ENCLAVE ND   \n",
       "3      Male                    71 ANAND LOK ND   \n",
       "4      Male          C-85 TF DEFENCE COLONY ND   \n",
       "\n",
       "                                            Column-8  \\\n",
       "0                                        AJAY VISHAL   \n",
       "1                                         MIN HO KIM   \n",
       "2                                     RADHALAKSHMI R   \n",
       "3                                  KANUKPRIYA GULATI   \n",
       "4  ITHIKIA HEALTH SCIENCES LLP THRU CHAND RATAN D...   \n",
       "\n",
       "                                            Column-9  ... Column-47 Column-48  \\\n",
       "0                                        AJAY VISHAL  ...       NaN       NaN   \n",
       "1                                         MIN HO KIM  ...       NaN       NaN   \n",
       "2                                     RADHALAKSHMI R  ...       NaN       NaN   \n",
       "3                                  KANUKPRIYA GULATI  ...       NaN       NaN   \n",
       "4  ITHIKIA HEALTH SCIENCES LLP THRU CHAND RATAN D...  ...       NaN       NaN   \n",
       "\n",
       "  Column-49 Column-50  \\\n",
       "0       NaN       NaN   \n",
       "1       NaN       NaN   \n",
       "2       NaN       NaN   \n",
       "3       NaN       NaN   \n",
       "4       NaN       NaN   \n",
       "\n",
       "  Reg.No Name Name Name Name Name Name Name Name Name Name Name  \\\n",
       "0                                                NaN              \n",
       "1                                                NaN              \n",
       "2                                                NaN              \n",
       "3                                                NaN              \n",
       "4                                                NaN              \n",
       "\n",
       "  Reg.Date Gender Gender Gender Gender Gender Gender Gender Gender Gender Gender Gender  \\\n",
       "0                                                NaN                                      \n",
       "1                                                NaN                                      \n",
       "2                                                NaN                                      \n",
       "3                                                NaN                                      \n",
       "4                                                NaN                                      \n",
       "\n",
       "  First Party Address Address Address Address Address Address Address Address Address Address Address  \\\n",
       "0                                                NaN                                                    \n",
       "1                                                NaN                                                    \n",
       "2                                                NaN                                                    \n",
       "3                                                NaN                                                    \n",
       "4                                                NaN                                                    \n",
       "\n",
       "  Second Party Name Name Name Name Name Name Name Name Name Name Name  \\\n",
       "0                                                NaN                    \n",
       "1                                                NaN                    \n",
       "2                                                NaN                    \n",
       "3                                                NaN                    \n",
       "4                                                NaN                    \n",
       "\n",
       "  Property Address Gender Gender Gender Gender Gender Gender Gender Gender Gender Gender Gender  \\\n",
       "0                                                NaN                                              \n",
       "1                                                NaN                                              \n",
       "2                                                NaN                                              \n",
       "3                                                NaN                                              \n",
       "4                                                NaN                                              \n",
       "\n",
       "  Area Address Address Address Address Address Address Address Address Address Address Address  \n",
       "0                                                NaN                                            \n",
       "1                                                NaN                                            \n",
       "2                                                NaN                                            \n",
       "3                                                NaN                                            \n",
       "4                                                NaN                                            \n",
       "\n",
       "[5 rows x 57 columns]"
      ]
     },
     "execution_count": 4,
     "metadata": {},
     "output_type": "execute_result"
    }
   ],
   "source": [
    "df.head()"
   ]
  },
  {
   "cell_type": "code",
   "execution_count": 9,
   "metadata": {},
   "outputs": [
    {
     "data": {
      "text/plain": [
       "0                                            Residential\n",
       "1                                            Residential\n",
       "2                                            Residential\n",
       "3                                            Residential\n",
       "4                                             Commercial\n",
       "5                                            Residential\n",
       "6                                            Residential\n",
       "7                    House No. B-5/44,Safdarjung Enclave\n",
       "8                                            Residential\n",
       "9                                            Residential\n",
       "10                                           Residential\n",
       "11                                           Residential\n",
       "12                                          AKRITI KHARE\n",
       "13             House No. B-7 EXTN /33,Safdarjung Enclave\n",
       "14                                         SHAMMI GULATI\n",
       "15                                         PRATIMA NAGAR\n",
       "16                                            Commercial\n",
       "17                                           Residential\n",
       "18                                           Residential\n",
       "19                                           Residential\n",
       "20                                    RAVI PRKASH NEHRAW\n",
       "21                                           Residential\n",
       "22     House No. 110-A/4 SF KRISHNA NAGAR,Safdarjung ...\n",
       "23                                           Residential\n",
       "24           House No. B-7 EXTN/39 TF,Safdarjung Enclave\n",
       "25                  House No. A-1/252,Safdarjung Enclave\n",
       "26                                           Residential\n",
       "27                                    RUPAL RAJESH DALAL\n",
       "28                                            Commercial\n",
       "29                              SHRI PARVEEN KUMAR KALRA\n",
       "                             ...                        \n",
       "161                    VA BUILDTRON LLP THRU AJAY KHANNA\n",
       "162                                           Commercial\n",
       "163                                          Residential\n",
       "164               House No. FF B-3/20,Safdarjung Enclave\n",
       "165                                        SUSHILA ARORA\n",
       "166        House No. 104-D BLK-B-2 SF,Safdarjung Enclave\n",
       "167                                        POOJA VIRMANI\n",
       "168                                          AMRITA JAIN\n",
       "169                                          Residential\n",
       "170                                          Residential\n",
       "171                                          Residential\n",
       "172                                          Residential\n",
       "173                                          Residential\n",
       "174                                          Residential\n",
       "175                                          Residential\n",
       "176                  House No. B-4/43,Safdarjung Enclave\n",
       "177                   House No. AB-20,Safdarjung Enclave\n",
       "178                                           Commercial\n",
       "179               House No. A1/303 GF,Safdarjung Enclave\n",
       "180                                           Commercial\n",
       "181                                          Residential\n",
       "182                                          Residential\n",
       "183               House No. B-6/86 SF,Safdarjung Enclave\n",
       "184    MASTER AGAMJOT SINGH GAUDH MINOR THHRU HIS NAT...\n",
       "185                                          Residential\n",
       "186    House No. B-3/38 ENTIRE TF WITH TERRACE,Safdar...\n",
       "187         House No. B-7 EXTN/101 FF,Safdarjung Enclave\n",
       "188                                          Residential\n",
       "189               House No. B-6/18 GF,Safdarjung Enclave\n",
       "190               House No. B-6/18 SF,Safdarjung Enclave\n",
       "Name: Column-17, Length: 191, dtype: object"
      ]
     },
     "execution_count": 9,
     "metadata": {},
     "output_type": "execute_result"
    }
   ],
   "source": [
    "df[\"Column-17\"]"
   ]
  },
  {
   "cell_type": "code",
   "execution_count": 10,
   "metadata": {},
   "outputs": [
    {
     "data": {
      "text/plain": [
       "0                     NaN\n",
       "1                     NaN\n",
       "2                     NaN\n",
       "3                     NaN\n",
       "4                     NaN\n",
       "5                     NaN\n",
       "6                     NaN\n",
       "7         74.665 Sq. Yard\n",
       "8                     NaN\n",
       "9                     NaN\n",
       "10                    NaN\n",
       "11                    NaN\n",
       "12                 Female\n",
       "13        69.54 Sq. Meter\n",
       "14                 Female\n",
       "15                 Female\n",
       "16                    NaN\n",
       "17                    NaN\n",
       "18                    NaN\n",
       "19                    NaN\n",
       "20     RAVI PRKASH NEHRAW\n",
       "21                    NaN\n",
       "22           125 Sq. Yard\n",
       "23                    NaN\n",
       "24        61.06 Sq. Meter\n",
       "25        178.2 Sq. Meter\n",
       "26                    NaN\n",
       "27                 Female\n",
       "28                    NaN\n",
       "29                   Male\n",
       "              ...        \n",
       "161                  Male\n",
       "162                   NaN\n",
       "163                   NaN\n",
       "164          700 Sq. Feet\n",
       "165         SUSHILA ARORA\n",
       "166          200 Sq. Yard\n",
       "167                  Male\n",
       "168                Female\n",
       "169                   NaN\n",
       "170                   NaN\n",
       "171                   NaN\n",
       "172                   NaN\n",
       "173                   NaN\n",
       "174                   NaN\n",
       "175                   NaN\n",
       "176         214 Sq. Meter\n",
       "177          144 Sq. Yard\n",
       "178                   NaN\n",
       "179         2340 Sq. Feet\n",
       "180                   NaN\n",
       "181                   NaN\n",
       "182                   NaN\n",
       "183          90 Sq. Meter\n",
       "184                  Male\n",
       "185                   NaN\n",
       "186          200 Sq. Yard\n",
       "187      111.48 Sq. Meter\n",
       "188                   NaN\n",
       "189          450 Sq. Yard\n",
       "190          450 Sq. Yard\n",
       "Name: Column-18, Length: 191, dtype: object"
      ]
     },
     "execution_count": 10,
     "metadata": {},
     "output_type": "execute_result"
    }
   ],
   "source": [
    "df[\"Column-18\"]"
   ]
  },
  {
   "cell_type": "code",
   "execution_count": null,
   "metadata": {},
   "outputs": [],
   "source": []
  },
  {
   "cell_type": "code",
   "execution_count": 24,
   "metadata": {
    "scrolled": true
   },
   "outputs": [
    {
     "data": {
      "text/plain": [
       "(191,)"
      ]
     },
     "execution_count": 24,
     "metadata": {},
     "output_type": "execute_result"
    }
   ],
   "source": [
    "df[\"Reg.No Name Name Name Name Name Name Name Name Name Name Name Name Name Name Name Name Name Name Name Name\"].shape"
   ]
  },
  {
   "cell_type": "code",
   "execution_count": 25,
   "metadata": {},
   "outputs": [
    {
     "data": {
      "text/plain": [
       "11"
      ]
     },
     "execution_count": 25,
     "metadata": {},
     "output_type": "execute_result"
    }
   ],
   "source": [
    "df[\"Reg.No Name Name Name Name Name Name Name Name Name Name Name Name Name Name Name Name Name Name Name Name\"].isna().sum()"
   ]
  },
  {
   "cell_type": "code",
   "execution_count": 15,
   "metadata": {},
   "outputs": [
    {
     "data": {
      "text/plain": [
       "(191,)"
      ]
     },
     "execution_count": 15,
     "metadata": {},
     "output_type": "execute_result"
    }
   ],
   "source": [
    "df[\"Reg.No Name Name Name Name Name Name Name Name Name Name Name\"].shape"
   ]
  },
  {
   "cell_type": "code",
   "execution_count": 16,
   "metadata": {},
   "outputs": [
    {
     "data": {
      "text/plain": [
       "180"
      ]
     },
     "execution_count": 16,
     "metadata": {},
     "output_type": "execute_result"
    }
   ],
   "source": [
    "df[\"Reg.No Name Name Name Name Name Name Name Name Name Name Name\"].isna().sum()"
   ]
  },
  {
   "cell_type": "code",
   "execution_count": 23,
   "metadata": {},
   "outputs": [
    {
     "data": {
      "text/plain": [
       "2648.0"
      ]
     },
     "execution_count": 23,
     "metadata": {},
     "output_type": "execute_result"
    }
   ],
   "source": [
    "df[\"Reg.No Name Name Name Name Name Name Name Name Name Name Name\"][180]"
   ]
  },
  {
   "cell_type": "code",
   "execution_count": null,
   "metadata": {},
   "outputs": [],
   "source": []
  },
  {
   "cell_type": "code",
   "execution_count": 26,
   "metadata": {},
   "outputs": [],
   "source": [
    "df_1 = pd.read_csv(\"scraped_revision_1.csv\")"
   ]
  },
  {
   "cell_type": "code",
   "execution_count": 32,
   "metadata": {},
   "outputs": [
    {
     "data": {
      "text/plain": [
       "0"
      ]
     },
     "execution_count": 32,
     "metadata": {},
     "output_type": "execute_result"
    }
   ],
   "source": [
    "df_1[\"Reg.No Name Name Name Name Name Name Name Name Name Name Name Name Name Name Name Name Name Name Name Name\"].isna().sum()"
   ]
  },
  {
   "cell_type": "code",
   "execution_count": 34,
   "metadata": {},
   "outputs": [
    {
     "data": {
      "text/plain": [
       "pandas.core.frame.DataFrame"
      ]
     },
     "execution_count": 34,
     "metadata": {},
     "output_type": "execute_result"
    }
   ],
   "source": [
    "type(df_1)"
   ]
  },
  {
   "cell_type": "code",
   "execution_count": 47,
   "metadata": {},
   "outputs": [],
   "source": [
    "df_final = df_1[[\"Reg.No Name Name Name Name Name Name Name Name Name Name Name Name Name Name Name Name Name Name Name Name\"]]"
   ]
  },
  {
   "cell_type": "code",
   "execution_count": 49,
   "metadata": {},
   "outputs": [
    {
     "name": "stderr",
     "output_type": "stream",
     "text": [
      "/anaconda3/lib/python3.6/site-packages/ipykernel_launcher.py:1: SettingWithCopyWarning: \n",
      "A value is trying to be set on a copy of a slice from a DataFrame.\n",
      "Try using .loc[row_indexer,col_indexer] = value instead\n",
      "\n",
      "See the caveats in the documentation: http://pandas.pydata.org/pandas-docs/stable/indexing.html#indexing-view-versus-copy\n",
      "  \"\"\"Entry point for launching an IPython kernel.\n"
     ]
    }
   ],
   "source": [
    "df_final[\"RegNo\"] = df_1[\"Reg.No Name Name Name Name Name Name Name Name Name Name Name Name Name Name Name Name Name Name Name Name\"]"
   ]
  },
  {
   "cell_type": "code",
   "execution_count": 51,
   "metadata": {},
   "outputs": [],
   "source": [
    "df_final = df_final.drop(columns=\"Reg.No Name Name Name Name Name Name Name Name Name Name Name Name Name Name Name Name Name Name Name Name\")"
   ]
  },
  {
   "cell_type": "code",
   "execution_count": 57,
   "metadata": {},
   "outputs": [],
   "source": [
    "df_final[\"Reg.Date\"]=df_1[\"Reg.Date Gender Gender Gender Gender Gender Gender Gender Gender Gender Gender Gender Gender Gender Gender Gender Gender Gender Gender Gender Gender\"]"
   ]
  },
  {
   "cell_type": "code",
   "execution_count": 60,
   "metadata": {},
   "outputs": [],
   "source": [
    "df_final[\"FirstParty\"]=df_1[\"First Party Address Address Address Address Address Address Address Address Address Address Address Address Address Address Address Address Address Address Address Address\"]"
   ]
  },
  {
   "cell_type": "code",
   "execution_count": 62,
   "metadata": {},
   "outputs": [],
   "source": [
    "df_final[\"SecondParty\"]=df_1[\"Second Party Name Name Name Name Name Name Name Name Name Name Name Name Name Name Name Name Name Name Name Name\"]"
   ]
  },
  {
   "cell_type": "code",
   "execution_count": null,
   "metadata": {},
   "outputs": [],
   "source": []
  },
  {
   "cell_type": "code",
   "execution_count": 67,
   "metadata": {},
   "outputs": [
    {
     "data": {
      "text/plain": [
       "191"
      ]
     },
     "execution_count": 67,
     "metadata": {},
     "output_type": "execute_result"
    }
   ],
   "source": [
    "df_1[\"Property Address Gender Gender Gender Gender Gender Gender Gender Gender Gender Gender Gender\"].isna().sum()"
   ]
  },
  {
   "cell_type": "code",
   "execution_count": 76,
   "metadata": {},
   "outputs": [
    {
     "data": {
      "text/plain": [
       "(110, 57)"
      ]
     },
     "execution_count": 76,
     "metadata": {},
     "output_type": "execute_result"
    }
   ],
   "source": [
    "df_1[df_1[\"Column-14\"].str.contains(\"House No.\")].shape"
   ]
  },
  {
   "cell_type": "code",
   "execution_count": 77,
   "metadata": {},
   "outputs": [
    {
     "data": {
      "text/plain": [
       "0         7\n",
       "1        11\n",
       "2        20\n",
       "3        36\n",
       "4        39\n",
       "5        41\n",
       "6        57\n",
       "7        58\n",
       "8        61\n",
       "9        72\n",
       "10       81\n",
       "11       83\n",
       "12       99\n",
       "13      153\n",
       "14      155\n",
       "15      159\n",
       "16      175\n",
       "17      180\n",
       "18      181\n",
       "19      189\n",
       "20      200\n",
       "21      201\n",
       "22      207\n",
       "23      209\n",
       "24      232\n",
       "25      249\n",
       "26      270\n",
       "27      291\n",
       "28      293\n",
       "29      311\n",
       "       ... \n",
       "161    2301\n",
       "162    2336\n",
       "163    2387\n",
       "164    2388\n",
       "165    2390\n",
       "166    2396\n",
       "167    2425\n",
       "168    2474\n",
       "169    2482\n",
       "170    2484\n",
       "171    2491\n",
       "172    2510\n",
       "173    2530\n",
       "174    2537\n",
       "175    2543\n",
       "176    2548\n",
       "177    2556\n",
       "178    2569\n",
       "179    2639\n",
       "180    2648\n",
       "181    2682\n",
       "182    2686\n",
       "183    2696\n",
       "184    2700\n",
       "185    2704\n",
       "186    2710\n",
       "187    2734\n",
       "188    2807\n",
       "189    2828\n",
       "190    2829\n",
       "Name: RegNo, Length: 191, dtype: int64"
      ]
     },
     "execution_count": 77,
     "metadata": {},
     "output_type": "execute_result"
    }
   ],
   "source": [
    "df_final[\"RegNo\"]"
   ]
  },
  {
   "cell_type": "code",
   "execution_count": null,
   "metadata": {},
   "outputs": [],
   "source": []
  },
  {
   "cell_type": "code",
   "execution_count": null,
   "metadata": {},
   "outputs": [],
   "source": []
  },
  {
   "cell_type": "code",
   "execution_count": null,
   "metadata": {},
   "outputs": [],
   "source": []
  }
 ],
 "metadata": {
  "kernelspec": {
   "display_name": "Python 3",
   "language": "python",
   "name": "python3"
  },
  "language_info": {
   "codemirror_mode": {
    "name": "ipython",
    "version": 3
   },
   "file_extension": ".py",
   "mimetype": "text/x-python",
   "name": "python",
   "nbconvert_exporter": "python",
   "pygments_lexer": "ipython3",
   "version": "3.6.8"
  }
 },
 "nbformat": 4,
 "nbformat_minor": 2
}

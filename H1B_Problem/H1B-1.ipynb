{
 "cells": [
  {
   "cell_type": "code",
   "execution_count": 1,
   "metadata": {},
   "outputs": [],
   "source": [
    "import pandas as pd\n",
    "import numpy as np\n",
    "import matplotlib.pyplot as plt"
   ]
  },
  {
   "cell_type": "code",
   "execution_count": 5,
   "metadata": {},
   "outputs": [
    {
     "name": "stderr",
     "output_type": "stream",
     "text": [
      "C:\\Users\\dell1\\Anaconda3\\lib\\site-packages\\IPython\\core\\interactiveshell.py:2785: DtypeWarning: Columns (15,16,17,25) have mixed types. Specify dtype option on import or set low_memory=False.\n",
      "  interactivity=interactivity, compiler=compiler, result=result)\n"
     ]
    }
   ],
   "source": [
    "df = pd.read_csv('H-1B_Disclosure_Data_FY17.csv')"
   ]
  },
  {
   "cell_type": "code",
   "execution_count": 6,
   "metadata": {
    "collapsed": true
   },
   "outputs": [
    {
     "data": {
      "text/html": [
       "<div>\n",
       "<style scoped>\n",
       "    .dataframe tbody tr th:only-of-type {\n",
       "        vertical-align: middle;\n",
       "    }\n",
       "\n",
       "    .dataframe tbody tr th {\n",
       "        vertical-align: top;\n",
       "    }\n",
       "\n",
       "    .dataframe thead th {\n",
       "        text-align: right;\n",
       "    }\n",
       "</style>\n",
       "<table border=\"1\" class=\"dataframe\">\n",
       "  <thead>\n",
       "    <tr style=\"text-align: right;\">\n",
       "      <th></th>\n",
       "      <th>Unnamed: 0</th>\n",
       "      <th>CASE_NUMBER</th>\n",
       "      <th>CASE_STATUS</th>\n",
       "      <th>CASE_SUBMITTED</th>\n",
       "      <th>DECISION_DATE</th>\n",
       "      <th>VISA_CLASS</th>\n",
       "      <th>EMPLOYMENT_START_DATE</th>\n",
       "      <th>EMPLOYMENT_END_DATE</th>\n",
       "      <th>EMPLOYER_NAME</th>\n",
       "      <th>EMPLOYER_BUSINESS_DBA</th>\n",
       "      <th>...</th>\n",
       "      <th>H1B_DEPENDENT</th>\n",
       "      <th>WILLFUL_VIOLATOR</th>\n",
       "      <th>SUPPORT_H1B</th>\n",
       "      <th>LABOR_CON_AGREE</th>\n",
       "      <th>PUBLIC_DISCLOSURE_LOCATION</th>\n",
       "      <th>WORKSITE_CITY</th>\n",
       "      <th>WORKSITE_COUNTY</th>\n",
       "      <th>WORKSITE_STATE</th>\n",
       "      <th>WORKSITE_POSTAL_CODE</th>\n",
       "      <th>ORIGINAL_CERT_DATE</th>\n",
       "    </tr>\n",
       "  </thead>\n",
       "  <tbody>\n",
       "    <tr>\n",
       "      <th>0</th>\n",
       "      <td>0</td>\n",
       "      <td>I-200-16055-173457</td>\n",
       "      <td>CERTIFIED-WITHDRAWN</td>\n",
       "      <td>2016-02-24</td>\n",
       "      <td>2016-10-01</td>\n",
       "      <td>H-1B</td>\n",
       "      <td>2016-08-10</td>\n",
       "      <td>2019-08-10</td>\n",
       "      <td>DISCOVER PRODUCTS INC.</td>\n",
       "      <td>NaN</td>\n",
       "      <td>...</td>\n",
       "      <td>N</td>\n",
       "      <td>N</td>\n",
       "      <td>NaN</td>\n",
       "      <td>Y</td>\n",
       "      <td>NaN</td>\n",
       "      <td>RIVERWOODS</td>\n",
       "      <td>LAKE</td>\n",
       "      <td>IL</td>\n",
       "      <td>60015</td>\n",
       "      <td>2016-03-01</td>\n",
       "    </tr>\n",
       "    <tr>\n",
       "      <th>1</th>\n",
       "      <td>1</td>\n",
       "      <td>I-200-16064-557834</td>\n",
       "      <td>CERTIFIED-WITHDRAWN</td>\n",
       "      <td>2016-03-04</td>\n",
       "      <td>2016-10-01</td>\n",
       "      <td>H-1B</td>\n",
       "      <td>2016-08-16</td>\n",
       "      <td>2019-08-16</td>\n",
       "      <td>DFS SERVICES LLC</td>\n",
       "      <td>NaN</td>\n",
       "      <td>...</td>\n",
       "      <td>N</td>\n",
       "      <td>N</td>\n",
       "      <td>NaN</td>\n",
       "      <td>Y</td>\n",
       "      <td>NaN</td>\n",
       "      <td>RIVERWOODS</td>\n",
       "      <td>LAKE</td>\n",
       "      <td>IL</td>\n",
       "      <td>60015</td>\n",
       "      <td>2016-03-08</td>\n",
       "    </tr>\n",
       "    <tr>\n",
       "      <th>2</th>\n",
       "      <td>2</td>\n",
       "      <td>I-200-16063-996093</td>\n",
       "      <td>CERTIFIED-WITHDRAWN</td>\n",
       "      <td>2016-03-10</td>\n",
       "      <td>2016-10-01</td>\n",
       "      <td>H-1B</td>\n",
       "      <td>2016-09-09</td>\n",
       "      <td>2019-09-09</td>\n",
       "      <td>EASTBANC TECHNOLOGIES LLC</td>\n",
       "      <td>NaN</td>\n",
       "      <td>...</td>\n",
       "      <td>Y</td>\n",
       "      <td>N</td>\n",
       "      <td>Y</td>\n",
       "      <td>NaN</td>\n",
       "      <td>NaN</td>\n",
       "      <td>WASHINGTON</td>\n",
       "      <td>NaN</td>\n",
       "      <td>DC</td>\n",
       "      <td>20007</td>\n",
       "      <td>2016-03-16</td>\n",
       "    </tr>\n",
       "    <tr>\n",
       "      <th>3</th>\n",
       "      <td>3</td>\n",
       "      <td>I-200-16272-196340</td>\n",
       "      <td>WITHDRAWN</td>\n",
       "      <td>2016-09-28</td>\n",
       "      <td>2016-10-01</td>\n",
       "      <td>H-1B</td>\n",
       "      <td>2017-01-26</td>\n",
       "      <td>2020-01-25</td>\n",
       "      <td>INFO SERVICES LLC</td>\n",
       "      <td>NaN</td>\n",
       "      <td>...</td>\n",
       "      <td>Y</td>\n",
       "      <td>N</td>\n",
       "      <td>Y</td>\n",
       "      <td>NaN</td>\n",
       "      <td>NaN</td>\n",
       "      <td>JERSEY CITY</td>\n",
       "      <td>HUDSON</td>\n",
       "      <td>NJ</td>\n",
       "      <td>07302</td>\n",
       "      <td>NaN</td>\n",
       "    </tr>\n",
       "    <tr>\n",
       "      <th>4</th>\n",
       "      <td>4</td>\n",
       "      <td>I-200-15053-636744</td>\n",
       "      <td>CERTIFIED-WITHDRAWN</td>\n",
       "      <td>2015-02-22</td>\n",
       "      <td>2016-10-02</td>\n",
       "      <td>H-1B</td>\n",
       "      <td>2015-03-01</td>\n",
       "      <td>2018-03-01</td>\n",
       "      <td>BB&amp;T CORPORATION</td>\n",
       "      <td>NaN</td>\n",
       "      <td>...</td>\n",
       "      <td>N</td>\n",
       "      <td>N</td>\n",
       "      <td>NaN</td>\n",
       "      <td>Y</td>\n",
       "      <td>NaN</td>\n",
       "      <td>NEW YORK</td>\n",
       "      <td>NEW YORK</td>\n",
       "      <td>NY</td>\n",
       "      <td>10036</td>\n",
       "      <td>2015-02-26</td>\n",
       "    </tr>\n",
       "  </tbody>\n",
       "</table>\n",
       "<p>5 rows × 53 columns</p>\n",
       "</div>"
      ],
      "text/plain": [
       "   Unnamed: 0         CASE_NUMBER          CASE_STATUS CASE_SUBMITTED  \\\n",
       "0           0  I-200-16055-173457  CERTIFIED-WITHDRAWN     2016-02-24   \n",
       "1           1  I-200-16064-557834  CERTIFIED-WITHDRAWN     2016-03-04   \n",
       "2           2  I-200-16063-996093  CERTIFIED-WITHDRAWN     2016-03-10   \n",
       "3           3  I-200-16272-196340            WITHDRAWN     2016-09-28   \n",
       "4           4  I-200-15053-636744  CERTIFIED-WITHDRAWN     2015-02-22   \n",
       "\n",
       "  DECISION_DATE VISA_CLASS EMPLOYMENT_START_DATE EMPLOYMENT_END_DATE  \\\n",
       "0    2016-10-01       H-1B            2016-08-10          2019-08-10   \n",
       "1    2016-10-01       H-1B            2016-08-16          2019-08-16   \n",
       "2    2016-10-01       H-1B            2016-09-09          2019-09-09   \n",
       "3    2016-10-01       H-1B            2017-01-26          2020-01-25   \n",
       "4    2016-10-02       H-1B            2015-03-01          2018-03-01   \n",
       "\n",
       "               EMPLOYER_NAME EMPLOYER_BUSINESS_DBA        ...          \\\n",
       "0     DISCOVER PRODUCTS INC.                   NaN        ...           \n",
       "1           DFS SERVICES LLC                   NaN        ...           \n",
       "2  EASTBANC TECHNOLOGIES LLC                   NaN        ...           \n",
       "3          INFO SERVICES LLC                   NaN        ...           \n",
       "4           BB&T CORPORATION                   NaN        ...           \n",
       "\n",
       "  H1B_DEPENDENT WILLFUL_VIOLATOR SUPPORT_H1B LABOR_CON_AGREE  \\\n",
       "0             N                N         NaN               Y   \n",
       "1             N                N         NaN               Y   \n",
       "2             Y                N           Y             NaN   \n",
       "3             Y                N           Y             NaN   \n",
       "4             N                N         NaN               Y   \n",
       "\n",
       "  PUBLIC_DISCLOSURE_LOCATION WORKSITE_CITY WORKSITE_COUNTY WORKSITE_STATE  \\\n",
       "0                        NaN    RIVERWOODS            LAKE             IL   \n",
       "1                        NaN    RIVERWOODS            LAKE             IL   \n",
       "2                        NaN    WASHINGTON             NaN             DC   \n",
       "3                        NaN   JERSEY CITY          HUDSON             NJ   \n",
       "4                        NaN      NEW YORK        NEW YORK             NY   \n",
       "\n",
       "  WORKSITE_POSTAL_CODE ORIGINAL_CERT_DATE  \n",
       "0                60015         2016-03-01  \n",
       "1                60015         2016-03-08  \n",
       "2                20007         2016-03-16  \n",
       "3                07302                NaN  \n",
       "4                10036         2015-02-26  \n",
       "\n",
       "[5 rows x 53 columns]"
      ]
     },
     "execution_count": 6,
     "metadata": {},
     "output_type": "execute_result"
    }
   ],
   "source": [
    "df.head()"
   ]
  },
  {
   "cell_type": "code",
   "execution_count": 7,
   "metadata": {},
   "outputs": [],
   "source": [
    "df.to_pickle('H1B_disclosure')"
   ]
  },
  {
   "cell_type": "code",
   "execution_count": 126,
   "metadata": {},
   "outputs": [],
   "source": [
    "df = pd.read_pickle('H1B_disclosure')"
   ]
  },
  {
   "cell_type": "code",
   "execution_count": 9,
   "metadata": {},
   "outputs": [
    {
     "data": {
      "text/html": [
       "<div>\n",
       "<style scoped>\n",
       "    .dataframe tbody tr th:only-of-type {\n",
       "        vertical-align: middle;\n",
       "    }\n",
       "\n",
       "    .dataframe tbody tr th {\n",
       "        vertical-align: top;\n",
       "    }\n",
       "\n",
       "    .dataframe thead th {\n",
       "        text-align: right;\n",
       "    }\n",
       "</style>\n",
       "<table border=\"1\" class=\"dataframe\">\n",
       "  <thead>\n",
       "    <tr style=\"text-align: right;\">\n",
       "      <th></th>\n",
       "      <th>Unnamed: 0</th>\n",
       "      <th>CASE_NUMBER</th>\n",
       "      <th>CASE_STATUS</th>\n",
       "      <th>CASE_SUBMITTED</th>\n",
       "      <th>DECISION_DATE</th>\n",
       "      <th>VISA_CLASS</th>\n",
       "      <th>EMPLOYMENT_START_DATE</th>\n",
       "      <th>EMPLOYMENT_END_DATE</th>\n",
       "      <th>EMPLOYER_NAME</th>\n",
       "      <th>EMPLOYER_BUSINESS_DBA</th>\n",
       "      <th>...</th>\n",
       "      <th>H1B_DEPENDENT</th>\n",
       "      <th>WILLFUL_VIOLATOR</th>\n",
       "      <th>SUPPORT_H1B</th>\n",
       "      <th>LABOR_CON_AGREE</th>\n",
       "      <th>PUBLIC_DISCLOSURE_LOCATION</th>\n",
       "      <th>WORKSITE_CITY</th>\n",
       "      <th>WORKSITE_COUNTY</th>\n",
       "      <th>WORKSITE_STATE</th>\n",
       "      <th>WORKSITE_POSTAL_CODE</th>\n",
       "      <th>ORIGINAL_CERT_DATE</th>\n",
       "    </tr>\n",
       "  </thead>\n",
       "  <tbody>\n",
       "    <tr>\n",
       "      <th>0</th>\n",
       "      <td>0</td>\n",
       "      <td>I-200-16055-173457</td>\n",
       "      <td>CERTIFIED-WITHDRAWN</td>\n",
       "      <td>2016-02-24</td>\n",
       "      <td>2016-10-01</td>\n",
       "      <td>H-1B</td>\n",
       "      <td>2016-08-10</td>\n",
       "      <td>2019-08-10</td>\n",
       "      <td>DISCOVER PRODUCTS INC.</td>\n",
       "      <td>NaN</td>\n",
       "      <td>...</td>\n",
       "      <td>N</td>\n",
       "      <td>N</td>\n",
       "      <td>NaN</td>\n",
       "      <td>Y</td>\n",
       "      <td>NaN</td>\n",
       "      <td>RIVERWOODS</td>\n",
       "      <td>LAKE</td>\n",
       "      <td>IL</td>\n",
       "      <td>60015</td>\n",
       "      <td>2016-03-01</td>\n",
       "    </tr>\n",
       "    <tr>\n",
       "      <th>1</th>\n",
       "      <td>1</td>\n",
       "      <td>I-200-16064-557834</td>\n",
       "      <td>CERTIFIED-WITHDRAWN</td>\n",
       "      <td>2016-03-04</td>\n",
       "      <td>2016-10-01</td>\n",
       "      <td>H-1B</td>\n",
       "      <td>2016-08-16</td>\n",
       "      <td>2019-08-16</td>\n",
       "      <td>DFS SERVICES LLC</td>\n",
       "      <td>NaN</td>\n",
       "      <td>...</td>\n",
       "      <td>N</td>\n",
       "      <td>N</td>\n",
       "      <td>NaN</td>\n",
       "      <td>Y</td>\n",
       "      <td>NaN</td>\n",
       "      <td>RIVERWOODS</td>\n",
       "      <td>LAKE</td>\n",
       "      <td>IL</td>\n",
       "      <td>60015</td>\n",
       "      <td>2016-03-08</td>\n",
       "    </tr>\n",
       "    <tr>\n",
       "      <th>2</th>\n",
       "      <td>2</td>\n",
       "      <td>I-200-16063-996093</td>\n",
       "      <td>CERTIFIED-WITHDRAWN</td>\n",
       "      <td>2016-03-10</td>\n",
       "      <td>2016-10-01</td>\n",
       "      <td>H-1B</td>\n",
       "      <td>2016-09-09</td>\n",
       "      <td>2019-09-09</td>\n",
       "      <td>EASTBANC TECHNOLOGIES LLC</td>\n",
       "      <td>NaN</td>\n",
       "      <td>...</td>\n",
       "      <td>Y</td>\n",
       "      <td>N</td>\n",
       "      <td>Y</td>\n",
       "      <td>NaN</td>\n",
       "      <td>NaN</td>\n",
       "      <td>WASHINGTON</td>\n",
       "      <td>NaN</td>\n",
       "      <td>DC</td>\n",
       "      <td>20007</td>\n",
       "      <td>2016-03-16</td>\n",
       "    </tr>\n",
       "    <tr>\n",
       "      <th>3</th>\n",
       "      <td>3</td>\n",
       "      <td>I-200-16272-196340</td>\n",
       "      <td>WITHDRAWN</td>\n",
       "      <td>2016-09-28</td>\n",
       "      <td>2016-10-01</td>\n",
       "      <td>H-1B</td>\n",
       "      <td>2017-01-26</td>\n",
       "      <td>2020-01-25</td>\n",
       "      <td>INFO SERVICES LLC</td>\n",
       "      <td>NaN</td>\n",
       "      <td>...</td>\n",
       "      <td>Y</td>\n",
       "      <td>N</td>\n",
       "      <td>Y</td>\n",
       "      <td>NaN</td>\n",
       "      <td>NaN</td>\n",
       "      <td>JERSEY CITY</td>\n",
       "      <td>HUDSON</td>\n",
       "      <td>NJ</td>\n",
       "      <td>07302</td>\n",
       "      <td>NaN</td>\n",
       "    </tr>\n",
       "    <tr>\n",
       "      <th>4</th>\n",
       "      <td>4</td>\n",
       "      <td>I-200-15053-636744</td>\n",
       "      <td>CERTIFIED-WITHDRAWN</td>\n",
       "      <td>2015-02-22</td>\n",
       "      <td>2016-10-02</td>\n",
       "      <td>H-1B</td>\n",
       "      <td>2015-03-01</td>\n",
       "      <td>2018-03-01</td>\n",
       "      <td>BB&amp;T CORPORATION</td>\n",
       "      <td>NaN</td>\n",
       "      <td>...</td>\n",
       "      <td>N</td>\n",
       "      <td>N</td>\n",
       "      <td>NaN</td>\n",
       "      <td>Y</td>\n",
       "      <td>NaN</td>\n",
       "      <td>NEW YORK</td>\n",
       "      <td>NEW YORK</td>\n",
       "      <td>NY</td>\n",
       "      <td>10036</td>\n",
       "      <td>2015-02-26</td>\n",
       "    </tr>\n",
       "  </tbody>\n",
       "</table>\n",
       "<p>5 rows × 53 columns</p>\n",
       "</div>"
      ],
      "text/plain": [
       "   Unnamed: 0         CASE_NUMBER          CASE_STATUS CASE_SUBMITTED  \\\n",
       "0           0  I-200-16055-173457  CERTIFIED-WITHDRAWN     2016-02-24   \n",
       "1           1  I-200-16064-557834  CERTIFIED-WITHDRAWN     2016-03-04   \n",
       "2           2  I-200-16063-996093  CERTIFIED-WITHDRAWN     2016-03-10   \n",
       "3           3  I-200-16272-196340            WITHDRAWN     2016-09-28   \n",
       "4           4  I-200-15053-636744  CERTIFIED-WITHDRAWN     2015-02-22   \n",
       "\n",
       "  DECISION_DATE VISA_CLASS EMPLOYMENT_START_DATE EMPLOYMENT_END_DATE  \\\n",
       "0    2016-10-01       H-1B            2016-08-10          2019-08-10   \n",
       "1    2016-10-01       H-1B            2016-08-16          2019-08-16   \n",
       "2    2016-10-01       H-1B            2016-09-09          2019-09-09   \n",
       "3    2016-10-01       H-1B            2017-01-26          2020-01-25   \n",
       "4    2016-10-02       H-1B            2015-03-01          2018-03-01   \n",
       "\n",
       "               EMPLOYER_NAME EMPLOYER_BUSINESS_DBA        ...          \\\n",
       "0     DISCOVER PRODUCTS INC.                   NaN        ...           \n",
       "1           DFS SERVICES LLC                   NaN        ...           \n",
       "2  EASTBANC TECHNOLOGIES LLC                   NaN        ...           \n",
       "3          INFO SERVICES LLC                   NaN        ...           \n",
       "4           BB&T CORPORATION                   NaN        ...           \n",
       "\n",
       "  H1B_DEPENDENT WILLFUL_VIOLATOR SUPPORT_H1B LABOR_CON_AGREE  \\\n",
       "0             N                N         NaN               Y   \n",
       "1             N                N         NaN               Y   \n",
       "2             Y                N           Y             NaN   \n",
       "3             Y                N           Y             NaN   \n",
       "4             N                N         NaN               Y   \n",
       "\n",
       "  PUBLIC_DISCLOSURE_LOCATION WORKSITE_CITY WORKSITE_COUNTY WORKSITE_STATE  \\\n",
       "0                        NaN    RIVERWOODS            LAKE             IL   \n",
       "1                        NaN    RIVERWOODS            LAKE             IL   \n",
       "2                        NaN    WASHINGTON             NaN             DC   \n",
       "3                        NaN   JERSEY CITY          HUDSON             NJ   \n",
       "4                        NaN      NEW YORK        NEW YORK             NY   \n",
       "\n",
       "  WORKSITE_POSTAL_CODE ORIGINAL_CERT_DATE  \n",
       "0                60015         2016-03-01  \n",
       "1                60015         2016-03-08  \n",
       "2                20007         2016-03-16  \n",
       "3                07302                NaN  \n",
       "4                10036         2015-02-26  \n",
       "\n",
       "[5 rows x 53 columns]"
      ]
     },
     "execution_count": 9,
     "metadata": {},
     "output_type": "execute_result"
    }
   ],
   "source": [
    "df.head()"
   ]
  },
  {
   "cell_type": "code",
   "execution_count": 11,
   "metadata": {},
   "outputs": [
    {
     "data": {
      "text/plain": [
       "(624650, 53)"
      ]
     },
     "execution_count": 11,
     "metadata": {},
     "output_type": "execute_result"
    }
   ],
   "source": [
    "df.shape"
   ]
  },
  {
   "cell_type": "code",
   "execution_count": 10,
   "metadata": {
    "collapsed": true
   },
   "outputs": [
    {
     "data": {
      "text/plain": [
       "Unnamed: 0                          0\n",
       "CASE_NUMBER                         0\n",
       "CASE_STATUS                         0\n",
       "CASE_SUBMITTED                      0\n",
       "DECISION_DATE                       0\n",
       "VISA_CLASS                          0\n",
       "EMPLOYMENT_START_DATE              29\n",
       "EMPLOYMENT_END_DATE                30\n",
       "EMPLOYER_NAME                      56\n",
       "EMPLOYER_BUSINESS_DBA          581380\n",
       "EMPLOYER_ADDRESS                    7\n",
       "EMPLOYER_CITY                      15\n",
       "EMPLOYER_STATE                     18\n",
       "EMPLOYER_POSTAL_CODE               18\n",
       "EMPLOYER_COUNTRY                96507\n",
       "EMPLOYER_PROVINCE              618534\n",
       "EMPLOYER_PHONE                  96508\n",
       "EMPLOYER_PHONE_EXT             596778\n",
       "AGENT_REPRESENTING_EMPLOYER     96506\n",
       "AGENT_ATTORNEY_NAME                 0\n",
       "AGENT_ATTORNEY_CITY            273306\n",
       "AGENT_ATTORNEY_STATE           288641\n",
       "JOB_TITLE                           5\n",
       "SOC_CODE                            2\n",
       "SOC_NAME                            3\n",
       "NAICS_CODE                          7\n",
       "TOTAL_WORKERS                       0\n",
       "NEW_EMPLOYMENT                      0\n",
       "CONTINUED_EMPLOYMENT                0\n",
       "CHANGE_PREVIOUS_EMPLOYMENT          0\n",
       "NEW_CONCURRENT_EMPLOYMENT           0\n",
       "CHANGE_EMPLOYER                     0\n",
       "AMENDED_PETITION                    0\n",
       "FULL_TIME_POSITION                  5\n",
       "PREVAILING_WAGE                     1\n",
       "PW_UNIT_OF_PAY                     46\n",
       "PW_WAGE_LEVEL                  123720\n",
       "PW_SOURCE                          46\n",
       "PW_SOURCE_YEAR                     45\n",
       "PW_SOURCE_OTHER                  6372\n",
       "WAGE_RATE_OF_PAY_FROM               0\n",
       "WAGE_RATE_OF_PAY_TO                 1\n",
       "WAGE_UNIT_OF_PAY                    8\n",
       "H1B_DEPENDENT                   13742\n",
       "WILLFUL_VIOLATOR                13745\n",
       "SUPPORT_H1B                    384174\n",
       "LABOR_CON_AGREE                379675\n",
       "PUBLIC_DISCLOSURE_LOCATION     624650\n",
       "WORKSITE_CITY                      13\n",
       "WORKSITE_COUNTY                  1179\n",
       "WORKSITE_STATE                      9\n",
       "WORKSITE_POSTAL_CODE               19\n",
       "ORIGINAL_CERT_DATE             574942\n",
       "dtype: int64"
      ]
     },
     "execution_count": 10,
     "metadata": {},
     "output_type": "execute_result"
    }
   ],
   "source": [
    "df.isna().sum()"
   ]
  },
  {
   "cell_type": "code",
   "execution_count": 13,
   "metadata": {},
   "outputs": [
    {
     "data": {
      "text/plain": [
       "CERTIFIED              545694\n",
       "CERTIFIED-WITHDRAWN     49704\n",
       "WITHDRAWN               20772\n",
       "DENIED                   8480\n",
       "Name: CASE_STATUS, dtype: int64"
      ]
     },
     "execution_count": 13,
     "metadata": {},
     "output_type": "execute_result"
    }
   ],
   "source": [
    "df['CASE_STATUS'].value_counts()"
   ]
  },
  {
   "cell_type": "code",
   "execution_count": 127,
   "metadata": {},
   "outputs": [],
   "source": [
    "df.drop(['PUBLIC_DISCLOSURE_LOCATION', 'ORIGINAL_CERT_DATE', 'EMPLOYER_BUSINESS_DBA', 'EMPLOYER_PROVINCE', 'EMPLOYER_PHONE_EXT'], 1, inplace = True)"
   ]
  },
  {
   "cell_type": "code",
   "execution_count": 15,
   "metadata": {
    "collapsed": true
   },
   "outputs": [
    {
     "data": {
      "text/html": [
       "<div>\n",
       "<style scoped>\n",
       "    .dataframe tbody tr th:only-of-type {\n",
       "        vertical-align: middle;\n",
       "    }\n",
       "\n",
       "    .dataframe tbody tr th {\n",
       "        vertical-align: top;\n",
       "    }\n",
       "\n",
       "    .dataframe thead th {\n",
       "        text-align: right;\n",
       "    }\n",
       "</style>\n",
       "<table border=\"1\" class=\"dataframe\">\n",
       "  <thead>\n",
       "    <tr style=\"text-align: right;\">\n",
       "      <th></th>\n",
       "      <th>Unnamed: 0</th>\n",
       "      <th>CASE_NUMBER</th>\n",
       "      <th>CASE_STATUS</th>\n",
       "      <th>CASE_SUBMITTED</th>\n",
       "      <th>DECISION_DATE</th>\n",
       "      <th>VISA_CLASS</th>\n",
       "      <th>EMPLOYMENT_START_DATE</th>\n",
       "      <th>EMPLOYMENT_END_DATE</th>\n",
       "      <th>EMPLOYER_NAME</th>\n",
       "      <th>EMPLOYER_ADDRESS</th>\n",
       "      <th>...</th>\n",
       "      <th>WAGE_RATE_OF_PAY_TO</th>\n",
       "      <th>WAGE_UNIT_OF_PAY</th>\n",
       "      <th>H1B_DEPENDENT</th>\n",
       "      <th>WILLFUL_VIOLATOR</th>\n",
       "      <th>SUPPORT_H1B</th>\n",
       "      <th>LABOR_CON_AGREE</th>\n",
       "      <th>WORKSITE_CITY</th>\n",
       "      <th>WORKSITE_COUNTY</th>\n",
       "      <th>WORKSITE_STATE</th>\n",
       "      <th>WORKSITE_POSTAL_CODE</th>\n",
       "    </tr>\n",
       "  </thead>\n",
       "  <tbody>\n",
       "    <tr>\n",
       "      <th>0</th>\n",
       "      <td>0</td>\n",
       "      <td>I-200-16055-173457</td>\n",
       "      <td>CERTIFIED-WITHDRAWN</td>\n",
       "      <td>2016-02-24</td>\n",
       "      <td>2016-10-01</td>\n",
       "      <td>H-1B</td>\n",
       "      <td>2016-08-10</td>\n",
       "      <td>2019-08-10</td>\n",
       "      <td>DISCOVER PRODUCTS INC.</td>\n",
       "      <td>2500 LAKE COOK ROAD</td>\n",
       "      <td>...</td>\n",
       "      <td>67320.0</td>\n",
       "      <td>Year</td>\n",
       "      <td>N</td>\n",
       "      <td>N</td>\n",
       "      <td>NaN</td>\n",
       "      <td>Y</td>\n",
       "      <td>RIVERWOODS</td>\n",
       "      <td>LAKE</td>\n",
       "      <td>IL</td>\n",
       "      <td>60015</td>\n",
       "    </tr>\n",
       "    <tr>\n",
       "      <th>1</th>\n",
       "      <td>1</td>\n",
       "      <td>I-200-16064-557834</td>\n",
       "      <td>CERTIFIED-WITHDRAWN</td>\n",
       "      <td>2016-03-04</td>\n",
       "      <td>2016-10-01</td>\n",
       "      <td>H-1B</td>\n",
       "      <td>2016-08-16</td>\n",
       "      <td>2019-08-16</td>\n",
       "      <td>DFS SERVICES LLC</td>\n",
       "      <td>2500 LAKE COOK ROAD</td>\n",
       "      <td>...</td>\n",
       "      <td>57200.0</td>\n",
       "      <td>Year</td>\n",
       "      <td>N</td>\n",
       "      <td>N</td>\n",
       "      <td>NaN</td>\n",
       "      <td>Y</td>\n",
       "      <td>RIVERWOODS</td>\n",
       "      <td>LAKE</td>\n",
       "      <td>IL</td>\n",
       "      <td>60015</td>\n",
       "    </tr>\n",
       "    <tr>\n",
       "      <th>2</th>\n",
       "      <td>2</td>\n",
       "      <td>I-200-16063-996093</td>\n",
       "      <td>CERTIFIED-WITHDRAWN</td>\n",
       "      <td>2016-03-10</td>\n",
       "      <td>2016-10-01</td>\n",
       "      <td>H-1B</td>\n",
       "      <td>2016-09-09</td>\n",
       "      <td>2019-09-09</td>\n",
       "      <td>EASTBANC TECHNOLOGIES LLC</td>\n",
       "      <td>1211 31ST ST. NW</td>\n",
       "      <td>...</td>\n",
       "      <td>0.0</td>\n",
       "      <td>Year</td>\n",
       "      <td>Y</td>\n",
       "      <td>N</td>\n",
       "      <td>Y</td>\n",
       "      <td>NaN</td>\n",
       "      <td>WASHINGTON</td>\n",
       "      <td>NaN</td>\n",
       "      <td>DC</td>\n",
       "      <td>20007</td>\n",
       "    </tr>\n",
       "    <tr>\n",
       "      <th>3</th>\n",
       "      <td>3</td>\n",
       "      <td>I-200-16272-196340</td>\n",
       "      <td>WITHDRAWN</td>\n",
       "      <td>2016-09-28</td>\n",
       "      <td>2016-10-01</td>\n",
       "      <td>H-1B</td>\n",
       "      <td>2017-01-26</td>\n",
       "      <td>2020-01-25</td>\n",
       "      <td>INFO SERVICES LLC</td>\n",
       "      <td>17177 NORTH LAUREL PARK DR</td>\n",
       "      <td>...</td>\n",
       "      <td>0.0</td>\n",
       "      <td>Year</td>\n",
       "      <td>Y</td>\n",
       "      <td>N</td>\n",
       "      <td>Y</td>\n",
       "      <td>NaN</td>\n",
       "      <td>JERSEY CITY</td>\n",
       "      <td>HUDSON</td>\n",
       "      <td>NJ</td>\n",
       "      <td>07302</td>\n",
       "    </tr>\n",
       "    <tr>\n",
       "      <th>4</th>\n",
       "      <td>4</td>\n",
       "      <td>I-200-15053-636744</td>\n",
       "      <td>CERTIFIED-WITHDRAWN</td>\n",
       "      <td>2015-02-22</td>\n",
       "      <td>2016-10-02</td>\n",
       "      <td>H-1B</td>\n",
       "      <td>2015-03-01</td>\n",
       "      <td>2018-03-01</td>\n",
       "      <td>BB&amp;T CORPORATION</td>\n",
       "      <td>223 WEST NASH STREET</td>\n",
       "      <td>...</td>\n",
       "      <td>0.0</td>\n",
       "      <td>Year</td>\n",
       "      <td>N</td>\n",
       "      <td>N</td>\n",
       "      <td>NaN</td>\n",
       "      <td>Y</td>\n",
       "      <td>NEW YORK</td>\n",
       "      <td>NEW YORK</td>\n",
       "      <td>NY</td>\n",
       "      <td>10036</td>\n",
       "    </tr>\n",
       "  </tbody>\n",
       "</table>\n",
       "<p>5 rows × 48 columns</p>\n",
       "</div>"
      ],
      "text/plain": [
       "   Unnamed: 0         CASE_NUMBER          CASE_STATUS CASE_SUBMITTED  \\\n",
       "0           0  I-200-16055-173457  CERTIFIED-WITHDRAWN     2016-02-24   \n",
       "1           1  I-200-16064-557834  CERTIFIED-WITHDRAWN     2016-03-04   \n",
       "2           2  I-200-16063-996093  CERTIFIED-WITHDRAWN     2016-03-10   \n",
       "3           3  I-200-16272-196340            WITHDRAWN     2016-09-28   \n",
       "4           4  I-200-15053-636744  CERTIFIED-WITHDRAWN     2015-02-22   \n",
       "\n",
       "  DECISION_DATE VISA_CLASS EMPLOYMENT_START_DATE EMPLOYMENT_END_DATE  \\\n",
       "0    2016-10-01       H-1B            2016-08-10          2019-08-10   \n",
       "1    2016-10-01       H-1B            2016-08-16          2019-08-16   \n",
       "2    2016-10-01       H-1B            2016-09-09          2019-09-09   \n",
       "3    2016-10-01       H-1B            2017-01-26          2020-01-25   \n",
       "4    2016-10-02       H-1B            2015-03-01          2018-03-01   \n",
       "\n",
       "               EMPLOYER_NAME            EMPLOYER_ADDRESS         ...           \\\n",
       "0     DISCOVER PRODUCTS INC.         2500 LAKE COOK ROAD         ...            \n",
       "1           DFS SERVICES LLC         2500 LAKE COOK ROAD         ...            \n",
       "2  EASTBANC TECHNOLOGIES LLC            1211 31ST ST. NW         ...            \n",
       "3          INFO SERVICES LLC  17177 NORTH LAUREL PARK DR         ...            \n",
       "4           BB&T CORPORATION        223 WEST NASH STREET         ...            \n",
       "\n",
       "  WAGE_RATE_OF_PAY_TO WAGE_UNIT_OF_PAY H1B_DEPENDENT WILLFUL_VIOLATOR  \\\n",
       "0             67320.0             Year             N                N   \n",
       "1             57200.0             Year             N                N   \n",
       "2                 0.0             Year             Y                N   \n",
       "3                 0.0             Year             Y                N   \n",
       "4                 0.0             Year             N                N   \n",
       "\n",
       "  SUPPORT_H1B LABOR_CON_AGREE WORKSITE_CITY WORKSITE_COUNTY WORKSITE_STATE  \\\n",
       "0         NaN               Y    RIVERWOODS            LAKE             IL   \n",
       "1         NaN               Y    RIVERWOODS            LAKE             IL   \n",
       "2           Y             NaN    WASHINGTON             NaN             DC   \n",
       "3           Y             NaN   JERSEY CITY          HUDSON             NJ   \n",
       "4         NaN               Y      NEW YORK        NEW YORK             NY   \n",
       "\n",
       "  WORKSITE_POSTAL_CODE  \n",
       "0                60015  \n",
       "1                60015  \n",
       "2                20007  \n",
       "3                07302  \n",
       "4                10036  \n",
       "\n",
       "[5 rows x 48 columns]"
      ]
     },
     "execution_count": 15,
     "metadata": {},
     "output_type": "execute_result"
    }
   ],
   "source": [
    "df.head()"
   ]
  },
  {
   "cell_type": "code",
   "execution_count": 43,
   "metadata": {
    "collapsed": true
   },
   "outputs": [
    {
     "data": {
      "text/plain": [
       "CASE_NUMBER                         0\n",
       "CASE_STATUS                         0\n",
       "CASE_SUBMITTED                      0\n",
       "DECISION_DATE                       0\n",
       "VISA_CLASS                          0\n",
       "EMPLOYMENT_START_DATE              29\n",
       "EMPLOYMENT_END_DATE                30\n",
       "EMPLOYER_NAME                      56\n",
       "EMPLOYER_ADDRESS                    7\n",
       "EMPLOYER_CITY                      15\n",
       "EMPLOYER_STATE                     18\n",
       "EMPLOYER_POSTAL_CODE               18\n",
       "EMPLOYER_COUNTRY                96507\n",
       "EMPLOYER_PHONE                  96508\n",
       "AGENT_REPRESENTING_EMPLOYER     96506\n",
       "AGENT_ATTORNEY_NAME                 0\n",
       "AGENT_ATTORNEY_CITY            273306\n",
       "AGENT_ATTORNEY_STATE           288641\n",
       "JOB_TITLE                           5\n",
       "SOC_CODE                            2\n",
       "SOC_NAME                            3\n",
       "NAICS_CODE                          7\n",
       "TOTAL_WORKERS                       0\n",
       "NEW_EMPLOYMENT                      0\n",
       "CONTINUED_EMPLOYMENT                0\n",
       "CHANGE_PREVIOUS_EMPLOYMENT          0\n",
       "NEW_CONCURRENT_EMPLOYMENT           0\n",
       "CHANGE_EMPLOYER                     0\n",
       "AMENDED_PETITION                    0\n",
       "FULL_TIME_POSITION                  5\n",
       "PREVAILING_WAGE                     1\n",
       "PW_UNIT_OF_PAY                     46\n",
       "PW_WAGE_LEVEL                  123720\n",
       "PW_SOURCE                          46\n",
       "PW_SOURCE_YEAR                     45\n",
       "PW_SOURCE_OTHER                  6372\n",
       "WAGE_RATE_OF_PAY_FROM               0\n",
       "WAGE_RATE_OF_PAY_TO                 1\n",
       "WAGE_UNIT_OF_PAY                    8\n",
       "H1B_DEPENDENT                   13742\n",
       "WILLFUL_VIOLATOR                13745\n",
       "SUPPORT_H1B                    384174\n",
       "WORKSITE_CITY                      13\n",
       "WORKSITE_COUNTY                  1179\n",
       "WORKSITE_STATE                      9\n",
       "WORKSITE_POSTAL_CODE               19\n",
       "dtype: int64"
      ]
     },
     "execution_count": 43,
     "metadata": {},
     "output_type": "execute_result"
    }
   ],
   "source": [
    "df.isna().sum()"
   ]
  },
  {
   "cell_type": "code",
   "execution_count": 128,
   "metadata": {},
   "outputs": [],
   "source": [
    "df.drop(['LABOR_CON_AGREE'], 1, inplace = True)"
   ]
  },
  {
   "cell_type": "code",
   "execution_count": 129,
   "metadata": {},
   "outputs": [],
   "source": [
    "df = df.iloc[:, 1:]"
   ]
  },
  {
   "cell_type": "code",
   "execution_count": 44,
   "metadata": {},
   "outputs": [
    {
     "data": {
      "text/plain": [
       "CASE_NUMBER                         0\n",
       "CASE_STATUS                         0\n",
       "CASE_SUBMITTED                      0\n",
       "DECISION_DATE                       0\n",
       "VISA_CLASS                          0\n",
       "EMPLOYMENT_START_DATE              29\n",
       "EMPLOYMENT_END_DATE                30\n",
       "EMPLOYER_NAME                      56\n",
       "EMPLOYER_ADDRESS                    7\n",
       "EMPLOYER_CITY                      15\n",
       "EMPLOYER_STATE                     18\n",
       "EMPLOYER_POSTAL_CODE               18\n",
       "EMPLOYER_COUNTRY                96507\n",
       "EMPLOYER_PHONE                  96508\n",
       "AGENT_REPRESENTING_EMPLOYER     96506\n",
       "AGENT_ATTORNEY_NAME                 0\n",
       "AGENT_ATTORNEY_CITY            273306\n",
       "AGENT_ATTORNEY_STATE           288641\n",
       "JOB_TITLE                           5\n",
       "SOC_CODE                            2\n",
       "SOC_NAME                            3\n",
       "NAICS_CODE                          7\n",
       "TOTAL_WORKERS                       0\n",
       "NEW_EMPLOYMENT                      0\n",
       "CONTINUED_EMPLOYMENT                0\n",
       "CHANGE_PREVIOUS_EMPLOYMENT          0\n",
       "NEW_CONCURRENT_EMPLOYMENT           0\n",
       "CHANGE_EMPLOYER                     0\n",
       "AMENDED_PETITION                    0\n",
       "FULL_TIME_POSITION                  5\n",
       "PREVAILING_WAGE                     1\n",
       "PW_UNIT_OF_PAY                     46\n",
       "PW_WAGE_LEVEL                  123720\n",
       "PW_SOURCE                          46\n",
       "PW_SOURCE_YEAR                     45\n",
       "PW_SOURCE_OTHER                  6372\n",
       "WAGE_RATE_OF_PAY_FROM               0\n",
       "WAGE_RATE_OF_PAY_TO                 1\n",
       "WAGE_UNIT_OF_PAY                    8\n",
       "H1B_DEPENDENT                   13742\n",
       "WILLFUL_VIOLATOR                13745\n",
       "SUPPORT_H1B                    384174\n",
       "WORKSITE_CITY                      13\n",
       "WORKSITE_COUNTY                  1179\n",
       "WORKSITE_STATE                      9\n",
       "WORKSITE_POSTAL_CODE               19\n",
       "dtype: int64"
      ]
     },
     "execution_count": 44,
     "metadata": {},
     "output_type": "execute_result"
    }
   ],
   "source": [
    "df.isna().sum()"
   ]
  },
  {
   "cell_type": "code",
   "execution_count": 130,
   "metadata": {},
   "outputs": [],
   "source": [
    "df.drop(['EMPLOYER_ADDRESS', 'EMPLOYER_STATE', 'EMPLOYER_POSTAL_CODE', 'EMPLOYER_COUNTRY', 'EMPLOYER_PHONE'], 1, inplace = True)"
   ]
  },
  {
   "cell_type": "code",
   "execution_count": 46,
   "metadata": {},
   "outputs": [
    {
     "data": {
      "text/plain": [
       "(624650, 41)"
      ]
     },
     "execution_count": 46,
     "metadata": {},
     "output_type": "execute_result"
    }
   ],
   "source": [
    "df.shape"
   ]
  },
  {
   "cell_type": "code",
   "execution_count": 50,
   "metadata": {
    "collapsed": true
   },
   "outputs": [
    {
     "data": {
      "text/plain": [
       "CASE_NUMBER                         0\n",
       "CASE_STATUS                         0\n",
       "CASE_SUBMITTED                      0\n",
       "DECISION_DATE                       0\n",
       "VISA_CLASS                          0\n",
       "EMPLOYMENT_START_DATE              29\n",
       "EMPLOYMENT_END_DATE                30\n",
       "EMPLOYER_NAME                      56\n",
       "EMPLOYER_CITY                      15\n",
       "AGENT_REPRESENTING_EMPLOYER     96506\n",
       "AGENT_ATTORNEY_NAME                 0\n",
       "AGENT_ATTORNEY_CITY            273306\n",
       "AGENT_ATTORNEY_STATE           288641\n",
       "JOB_TITLE                           5\n",
       "SOC_CODE                            2\n",
       "SOC_NAME                            3\n",
       "NAICS_CODE                          7\n",
       "TOTAL_WORKERS                       0\n",
       "NEW_EMPLOYMENT                      0\n",
       "CONTINUED_EMPLOYMENT                0\n",
       "CHANGE_PREVIOUS_EMPLOYMENT          0\n",
       "NEW_CONCURRENT_EMPLOYMENT           0\n",
       "CHANGE_EMPLOYER                     0\n",
       "AMENDED_PETITION                    0\n",
       "FULL_TIME_POSITION                  5\n",
       "PREVAILING_WAGE                     1\n",
       "PW_UNIT_OF_PAY                     46\n",
       "PW_WAGE_LEVEL                  123720\n",
       "PW_SOURCE                          46\n",
       "PW_SOURCE_YEAR                     45\n",
       "PW_SOURCE_OTHER                  6372\n",
       "WAGE_RATE_OF_PAY_FROM               0\n",
       "WAGE_RATE_OF_PAY_TO                 1\n",
       "WAGE_UNIT_OF_PAY                    8\n",
       "H1B_DEPENDENT                   13742\n",
       "WILLFUL_VIOLATOR                13745\n",
       "SUPPORT_H1B                         0\n",
       "WORKSITE_CITY                      13\n",
       "WORKSITE_COUNTY                  1179\n",
       "WORKSITE_STATE                      9\n",
       "WORKSITE_POSTAL_CODE               19\n",
       "dtype: int64"
      ]
     },
     "execution_count": 50,
     "metadata": {},
     "output_type": "execute_result"
    }
   ],
   "source": [
    "df.isna().sum()"
   ]
  },
  {
   "cell_type": "code",
   "execution_count": 131,
   "metadata": {},
   "outputs": [
    {
     "name": "stderr",
     "output_type": "stream",
     "text": [
      "C:\\Users\\dell1\\Anaconda3\\lib\\site-packages\\ipykernel_launcher.py:1: SettingWithCopyWarning: \n",
      "A value is trying to be set on a copy of a slice from a DataFrame\n",
      "\n",
      "See the caveats in the documentation: http://pandas.pydata.org/pandas-docs/stable/indexing.html#indexing-view-versus-copy\n",
      "  \"\"\"Entry point for launching an IPython kernel.\n"
     ]
    }
   ],
   "source": [
    "df['SUPPORT_H1B'][df['SUPPORT_H1B'].isna()] = 'NA'"
   ]
  },
  {
   "cell_type": "code",
   "execution_count": 132,
   "metadata": {},
   "outputs": [
    {
     "data": {
      "text/plain": [
       "CASE_NUMBER                     0.000000\n",
       "CASE_STATUS                     0.000000\n",
       "CASE_SUBMITTED                  0.000000\n",
       "DECISION_DATE                   0.000000\n",
       "VISA_CLASS                      0.000000\n",
       "EMPLOYMENT_START_DATE           0.004643\n",
       "EMPLOYMENT_END_DATE             0.004803\n",
       "EMPLOYER_NAME                   0.008965\n",
       "EMPLOYER_CITY                   0.002401\n",
       "AGENT_REPRESENTING_EMPLOYER    15.449612\n",
       "AGENT_ATTORNEY_NAME             0.000000\n",
       "AGENT_ATTORNEY_CITY            43.753462\n",
       "AGENT_ATTORNEY_STATE           46.208437\n",
       "JOB_TITLE                       0.000800\n",
       "SOC_CODE                        0.000320\n",
       "SOC_NAME                        0.000480\n",
       "NAICS_CODE                      0.001121\n",
       "TOTAL_WORKERS                   0.000000\n",
       "NEW_EMPLOYMENT                  0.000000\n",
       "CONTINUED_EMPLOYMENT            0.000000\n",
       "CHANGE_PREVIOUS_EMPLOYMENT      0.000000\n",
       "NEW_CONCURRENT_EMPLOYMENT       0.000000\n",
       "CHANGE_EMPLOYER                 0.000000\n",
       "AMENDED_PETITION                0.000000\n",
       "FULL_TIME_POSITION              0.000800\n",
       "PREVAILING_WAGE                 0.000160\n",
       "PW_UNIT_OF_PAY                  0.007364\n",
       "PW_WAGE_LEVEL                  19.806292\n",
       "PW_SOURCE                       0.007364\n",
       "PW_SOURCE_YEAR                  0.007204\n",
       "PW_SOURCE_OTHER                 1.020091\n",
       "WAGE_RATE_OF_PAY_FROM           0.000000\n",
       "WAGE_RATE_OF_PAY_TO             0.000160\n",
       "WAGE_UNIT_OF_PAY                0.001281\n",
       "H1B_DEPENDENT                   2.199952\n",
       "WILLFUL_VIOLATOR                2.200432\n",
       "SUPPORT_H1B                     0.000000\n",
       "WORKSITE_CITY                   0.002081\n",
       "WORKSITE_COUNTY                 0.188746\n",
       "WORKSITE_STATE                  0.001441\n",
       "WORKSITE_POSTAL_CODE            0.003042\n",
       "dtype: float64"
      ]
     },
     "execution_count": 132,
     "metadata": {},
     "output_type": "execute_result"
    }
   ],
   "source": [
    "df.isna().sum() / len(df) * 100"
   ]
  },
  {
   "cell_type": "code",
   "execution_count": 133,
   "metadata": {},
   "outputs": [],
   "source": [
    "df.drop(['AGENT_ATTORNEY_CITY', 'AGENT_ATTORNEY_STATE'], 1, inplace = True)"
   ]
  },
  {
   "cell_type": "code",
   "execution_count": 64,
   "metadata": {},
   "outputs": [
    {
     "data": {
      "text/plain": [
       "(624650, 39)"
      ]
     },
     "execution_count": 64,
     "metadata": {},
     "output_type": "execute_result"
    }
   ],
   "source": [
    "df.shape"
   ]
  },
  {
   "cell_type": "code",
   "execution_count": 65,
   "metadata": {
    "collapsed": true
   },
   "outputs": [
    {
     "data": {
      "text/plain": [
       "CASE_NUMBER                         0\n",
       "CASE_STATUS                         0\n",
       "CASE_SUBMITTED                      0\n",
       "DECISION_DATE                       0\n",
       "VISA_CLASS                          0\n",
       "EMPLOYMENT_START_DATE              29\n",
       "EMPLOYMENT_END_DATE                30\n",
       "EMPLOYER_NAME                      56\n",
       "EMPLOYER_CITY                      15\n",
       "AGENT_REPRESENTING_EMPLOYER     96506\n",
       "AGENT_ATTORNEY_NAME                 0\n",
       "JOB_TITLE                           5\n",
       "SOC_CODE                            2\n",
       "SOC_NAME                            3\n",
       "NAICS_CODE                          7\n",
       "TOTAL_WORKERS                       0\n",
       "NEW_EMPLOYMENT                      0\n",
       "CONTINUED_EMPLOYMENT                0\n",
       "CHANGE_PREVIOUS_EMPLOYMENT          0\n",
       "NEW_CONCURRENT_EMPLOYMENT           0\n",
       "CHANGE_EMPLOYER                     0\n",
       "AMENDED_PETITION                    0\n",
       "FULL_TIME_POSITION                  5\n",
       "PREVAILING_WAGE                     1\n",
       "PW_UNIT_OF_PAY                     46\n",
       "PW_WAGE_LEVEL                  123720\n",
       "PW_SOURCE                          46\n",
       "PW_SOURCE_YEAR                     45\n",
       "PW_SOURCE_OTHER                  6372\n",
       "WAGE_RATE_OF_PAY_FROM               0\n",
       "WAGE_RATE_OF_PAY_TO                 1\n",
       "WAGE_UNIT_OF_PAY                    8\n",
       "H1B_DEPENDENT                   13742\n",
       "WILLFUL_VIOLATOR                13745\n",
       "SUPPORT_H1B                         0\n",
       "WORKSITE_CITY                      13\n",
       "WORKSITE_COUNTY                  1179\n",
       "WORKSITE_STATE                      9\n",
       "WORKSITE_POSTAL_CODE               19\n",
       "dtype: int64"
      ]
     },
     "execution_count": 65,
     "metadata": {},
     "output_type": "execute_result"
    }
   ],
   "source": [
    "df.isna().sum()"
   ]
  },
  {
   "cell_type": "code",
   "execution_count": 134,
   "metadata": {},
   "outputs": [
    {
     "data": {
      "text/plain": [
       "Y    351346\n",
       "N    176798\n",
       "Name: AGENT_REPRESENTING_EMPLOYER, dtype: int64"
      ]
     },
     "execution_count": 134,
     "metadata": {},
     "output_type": "execute_result"
    }
   ],
   "source": [
    "df['AGENT_REPRESENTING_EMPLOYER'].value_counts()"
   ]
  },
  {
   "cell_type": "code",
   "execution_count": 135,
   "metadata": {},
   "outputs": [],
   "source": [
    "df_agent = df['AGENT_ATTORNEY_NAME'][df['AGENT_REPRESENTING_EMPLOYER'].isna()]"
   ]
  },
  {
   "cell_type": "code",
   "execution_count": 136,
   "metadata": {},
   "outputs": [],
   "source": [
    "df = df[df['AGENT_REPRESENTING_EMPLOYER'].notna()]"
   ]
  },
  {
   "cell_type": "code",
   "execution_count": 75,
   "metadata": {},
   "outputs": [
    {
     "data": {
      "text/plain": [
       "(528144, 39)"
      ]
     },
     "execution_count": 75,
     "metadata": {},
     "output_type": "execute_result"
    }
   ],
   "source": [
    "df.shape"
   ]
  },
  {
   "cell_type": "code",
   "execution_count": 76,
   "metadata": {
    "collapsed": true
   },
   "outputs": [
    {
     "data": {
      "text/plain": [
       "CASE_NUMBER                        0\n",
       "CASE_STATUS                        0\n",
       "CASE_SUBMITTED                     0\n",
       "DECISION_DATE                      0\n",
       "VISA_CLASS                         0\n",
       "EMPLOYMENT_START_DATE             17\n",
       "EMPLOYMENT_END_DATE               17\n",
       "EMPLOYER_NAME                     43\n",
       "EMPLOYER_CITY                     14\n",
       "AGENT_REPRESENTING_EMPLOYER        0\n",
       "AGENT_ATTORNEY_NAME                0\n",
       "JOB_TITLE                          3\n",
       "SOC_CODE                           0\n",
       "SOC_NAME                           1\n",
       "NAICS_CODE                         6\n",
       "TOTAL_WORKERS                      0\n",
       "NEW_EMPLOYMENT                     0\n",
       "CONTINUED_EMPLOYMENT               0\n",
       "CHANGE_PREVIOUS_EMPLOYMENT         0\n",
       "NEW_CONCURRENT_EMPLOYMENT          0\n",
       "CHANGE_EMPLOYER                    0\n",
       "AMENDED_PETITION                   0\n",
       "FULL_TIME_POSITION                 4\n",
       "PREVAILING_WAGE                    0\n",
       "PW_UNIT_OF_PAY                    35\n",
       "PW_WAGE_LEVEL                  27217\n",
       "PW_SOURCE                         35\n",
       "PW_SOURCE_YEAR                    33\n",
       "PW_SOURCE_OTHER                 5117\n",
       "WAGE_RATE_OF_PAY_FROM              0\n",
       "WAGE_RATE_OF_PAY_TO                1\n",
       "WAGE_UNIT_OF_PAY                   6\n",
       "H1B_DEPENDENT                  10301\n",
       "WILLFUL_VIOLATOR               10302\n",
       "SUPPORT_H1B                        0\n",
       "WORKSITE_CITY                     10\n",
       "WORKSITE_COUNTY                 1006\n",
       "WORKSITE_STATE                     6\n",
       "WORKSITE_POSTAL_CODE              15\n",
       "dtype: int64"
      ]
     },
     "execution_count": 76,
     "metadata": {},
     "output_type": "execute_result"
    }
   ],
   "source": [
    "df.isna().sum()"
   ]
  },
  {
   "cell_type": "code",
   "execution_count": 137,
   "metadata": {},
   "outputs": [],
   "source": [
    "df.drop(['AGENT_ATTORNEY_NAME', 'EMPLOYER_NAME'], 1, inplace = True)"
   ]
  },
  {
   "cell_type": "code",
   "execution_count": 78,
   "metadata": {
    "collapsed": true
   },
   "outputs": [
    {
     "data": {
      "text/plain": [
       "CASE_NUMBER                        0\n",
       "CASE_STATUS                        0\n",
       "CASE_SUBMITTED                     0\n",
       "DECISION_DATE                      0\n",
       "VISA_CLASS                         0\n",
       "EMPLOYMENT_START_DATE             17\n",
       "EMPLOYMENT_END_DATE               17\n",
       "EMPLOYER_CITY                     14\n",
       "AGENT_REPRESENTING_EMPLOYER        0\n",
       "JOB_TITLE                          3\n",
       "SOC_CODE                           0\n",
       "SOC_NAME                           1\n",
       "NAICS_CODE                         6\n",
       "TOTAL_WORKERS                      0\n",
       "NEW_EMPLOYMENT                     0\n",
       "CONTINUED_EMPLOYMENT               0\n",
       "CHANGE_PREVIOUS_EMPLOYMENT         0\n",
       "NEW_CONCURRENT_EMPLOYMENT          0\n",
       "CHANGE_EMPLOYER                    0\n",
       "AMENDED_PETITION                   0\n",
       "FULL_TIME_POSITION                 4\n",
       "PREVAILING_WAGE                    0\n",
       "PW_UNIT_OF_PAY                    35\n",
       "PW_WAGE_LEVEL                  27217\n",
       "PW_SOURCE                         35\n",
       "PW_SOURCE_YEAR                    33\n",
       "PW_SOURCE_OTHER                 5117\n",
       "WAGE_RATE_OF_PAY_FROM              0\n",
       "WAGE_RATE_OF_PAY_TO                1\n",
       "WAGE_UNIT_OF_PAY                   6\n",
       "H1B_DEPENDENT                  10301\n",
       "WILLFUL_VIOLATOR               10302\n",
       "SUPPORT_H1B                        0\n",
       "WORKSITE_CITY                     10\n",
       "WORKSITE_COUNTY                 1006\n",
       "WORKSITE_STATE                     6\n",
       "WORKSITE_POSTAL_CODE              15\n",
       "dtype: int64"
      ]
     },
     "execution_count": 78,
     "metadata": {},
     "output_type": "execute_result"
    }
   ],
   "source": [
    "df.isna().sum()"
   ]
  },
  {
   "cell_type": "code",
   "execution_count": 138,
   "metadata": {},
   "outputs": [
    {
     "data": {
      "text/plain": [
       "703"
      ]
     },
     "execution_count": 138,
     "metadata": {},
     "output_type": "execute_result"
    }
   ],
   "source": [
    "df['SOC_CODE'].nunique()"
   ]
  },
  {
   "cell_type": "code",
   "execution_count": 139,
   "metadata": {},
   "outputs": [
    {
     "data": {
      "text/plain": [
       "821"
      ]
     },
     "execution_count": 139,
     "metadata": {},
     "output_type": "execute_result"
    }
   ],
   "source": [
    "df['SOC_NAME'].nunique()"
   ]
  },
  {
   "cell_type": "code",
   "execution_count": 140,
   "metadata": {},
   "outputs": [],
   "source": [
    "df.drop(['SOC_NAME'], 1, inplace = True)"
   ]
  },
  {
   "cell_type": "code",
   "execution_count": 83,
   "metadata": {
    "collapsed": true
   },
   "outputs": [
    {
     "data": {
      "text/plain": [
       "CASE_NUMBER                        0\n",
       "CASE_STATUS                        0\n",
       "CASE_SUBMITTED                     0\n",
       "DECISION_DATE                      0\n",
       "VISA_CLASS                         0\n",
       "EMPLOYMENT_START_DATE             17\n",
       "EMPLOYMENT_END_DATE               17\n",
       "EMPLOYER_CITY                     14\n",
       "AGENT_REPRESENTING_EMPLOYER        0\n",
       "JOB_TITLE                          3\n",
       "SOC_CODE                           0\n",
       "NAICS_CODE                         6\n",
       "TOTAL_WORKERS                      0\n",
       "NEW_EMPLOYMENT                     0\n",
       "CONTINUED_EMPLOYMENT               0\n",
       "CHANGE_PREVIOUS_EMPLOYMENT         0\n",
       "NEW_CONCURRENT_EMPLOYMENT          0\n",
       "CHANGE_EMPLOYER                    0\n",
       "AMENDED_PETITION                   0\n",
       "FULL_TIME_POSITION                 4\n",
       "PREVAILING_WAGE                    0\n",
       "PW_UNIT_OF_PAY                    35\n",
       "PW_WAGE_LEVEL                  27217\n",
       "PW_SOURCE                         35\n",
       "PW_SOURCE_YEAR                    33\n",
       "PW_SOURCE_OTHER                 5117\n",
       "WAGE_RATE_OF_PAY_FROM              0\n",
       "WAGE_RATE_OF_PAY_TO                1\n",
       "WAGE_UNIT_OF_PAY                   6\n",
       "H1B_DEPENDENT                  10301\n",
       "WILLFUL_VIOLATOR               10302\n",
       "SUPPORT_H1B                        0\n",
       "WORKSITE_CITY                     10\n",
       "WORKSITE_COUNTY                 1006\n",
       "WORKSITE_STATE                     6\n",
       "WORKSITE_POSTAL_CODE              15\n",
       "dtype: int64"
      ]
     },
     "execution_count": 83,
     "metadata": {},
     "output_type": "execute_result"
    }
   ],
   "source": [
    "df.isna().sum()"
   ]
  },
  {
   "cell_type": "code",
   "execution_count": 141,
   "metadata": {},
   "outputs": [
    {
     "data": {
      "text/plain": [
       "2149"
      ]
     },
     "execution_count": 141,
     "metadata": {},
     "output_type": "execute_result"
    }
   ],
   "source": [
    "df['NAICS_CODE'].nunique()"
   ]
  },
  {
   "cell_type": "code",
   "execution_count": 142,
   "metadata": {},
   "outputs": [
    {
     "data": {
      "text/plain": [
       "541511      195513\n",
       "541512       28613\n",
       "611310       20176\n",
       "54151        18141\n",
       "5416         16685\n",
       "541519       12136\n",
       "541330       11677\n",
       "541211        6678\n",
       "54161         6628\n",
       "541611        6291\n",
       "523110        6099\n",
       "622110        6056\n",
       "511210        5973\n",
       "454111        5702\n",
       "5415          5544\n",
       "51121         4307\n",
       "541710        3924\n",
       "54121         3637\n",
       "621111        3416\n",
       "334413        3155\n",
       "522110        3014\n",
       "518112        2897\n",
       "334111        2759\n",
       "518210        2627\n",
       "541990        2602\n",
       "611110        2554\n",
       "541690        2074\n",
       "551112        2067\n",
       "523920        2037\n",
       "3344          2029\n",
       "             ...  \n",
       "213112           1\n",
       "335999           1\n",
       "541715.0         1\n",
       "541714.0         1\n",
       "999990           1\n",
       "332116           1\n",
       "33441            1\n",
       "541190           1\n",
       "541100           1\n",
       "541000           1\n",
       "517919           1\n",
       "81390            1\n",
       "151099           1\n",
       "621210           1\n",
       "611000           1\n",
       "21229            1\n",
       "21232            1\n",
       "611111           1\n",
       "55111            1\n",
       "6221             1\n",
       "22121            1\n",
       "482112           1\n",
       "6113             1\n",
       "23812            1\n",
       "23813            1\n",
       "23814            1\n",
       "23815            1\n",
       "811112           1\n",
       "811122           1\n",
       "524290           1\n",
       "Name: NAICS_CODE, Length: 2149, dtype: int64"
      ]
     },
     "execution_count": 142,
     "metadata": {},
     "output_type": "execute_result"
    }
   ],
   "source": [
    "df['NAICS_CODE'].value_counts()"
   ]
  },
  {
   "cell_type": "code",
   "execution_count": 143,
   "metadata": {},
   "outputs": [],
   "source": [
    "df['NAICS_CODE'].fillna(df['NAICS_CODE'].median(), inplace = True)"
   ]
  },
  {
   "cell_type": "code",
   "execution_count": 97,
   "metadata": {},
   "outputs": [
    {
     "data": {
      "text/plain": [
       "0"
      ]
     },
     "execution_count": 97,
     "metadata": {},
     "output_type": "execute_result"
    }
   ],
   "source": [
    "df['NAICS_CODE'].isna().sum()"
   ]
  },
  {
   "cell_type": "code",
   "execution_count": 98,
   "metadata": {
    "collapsed": true
   },
   "outputs": [
    {
     "data": {
      "text/plain": [
       "CASE_NUMBER                        0\n",
       "CASE_STATUS                        0\n",
       "CASE_SUBMITTED                     0\n",
       "DECISION_DATE                      0\n",
       "VISA_CLASS                         0\n",
       "EMPLOYMENT_START_DATE             17\n",
       "EMPLOYMENT_END_DATE               17\n",
       "EMPLOYER_CITY                     14\n",
       "AGENT_REPRESENTING_EMPLOYER        0\n",
       "JOB_TITLE                          3\n",
       "SOC_CODE                           0\n",
       "NAICS_CODE                         0\n",
       "TOTAL_WORKERS                      0\n",
       "NEW_EMPLOYMENT                     0\n",
       "CONTINUED_EMPLOYMENT               0\n",
       "CHANGE_PREVIOUS_EMPLOYMENT         0\n",
       "NEW_CONCURRENT_EMPLOYMENT          0\n",
       "CHANGE_EMPLOYER                    0\n",
       "AMENDED_PETITION                   0\n",
       "FULL_TIME_POSITION                 4\n",
       "PREVAILING_WAGE                    0\n",
       "PW_UNIT_OF_PAY                    35\n",
       "PW_WAGE_LEVEL                  27217\n",
       "PW_SOURCE                         35\n",
       "PW_SOURCE_YEAR                    33\n",
       "PW_SOURCE_OTHER                 5117\n",
       "WAGE_RATE_OF_PAY_FROM              0\n",
       "WAGE_RATE_OF_PAY_TO                1\n",
       "WAGE_UNIT_OF_PAY                   6\n",
       "H1B_DEPENDENT                  10301\n",
       "WILLFUL_VIOLATOR               10302\n",
       "SUPPORT_H1B                        0\n",
       "WORKSITE_CITY                     10\n",
       "WORKSITE_COUNTY                 1006\n",
       "WORKSITE_STATE                     6\n",
       "WORKSITE_POSTAL_CODE              15\n",
       "dtype: int64"
      ]
     },
     "execution_count": 98,
     "metadata": {},
     "output_type": "execute_result"
    }
   ],
   "source": [
    "df.isna().sum()"
   ]
  },
  {
   "cell_type": "code",
   "execution_count": 144,
   "metadata": {
    "scrolled": false
   },
   "outputs": [],
   "source": [
    "df.drop(['CONTINUED_EMPLOYMENT'], 1, inplace = True)"
   ]
  },
  {
   "cell_type": "code",
   "execution_count": 102,
   "metadata": {
    "collapsed": true
   },
   "outputs": [
    {
     "data": {
      "text/plain": [
       "CASE_NUMBER                        0\n",
       "CASE_STATUS                        0\n",
       "CASE_SUBMITTED                     0\n",
       "DECISION_DATE                      0\n",
       "VISA_CLASS                         0\n",
       "EMPLOYMENT_START_DATE             17\n",
       "EMPLOYMENT_END_DATE               17\n",
       "EMPLOYER_CITY                     14\n",
       "AGENT_REPRESENTING_EMPLOYER        0\n",
       "JOB_TITLE                          3\n",
       "SOC_CODE                           0\n",
       "NAICS_CODE                         0\n",
       "TOTAL_WORKERS                      0\n",
       "NEW_EMPLOYMENT                     0\n",
       "CHANGE_PREVIOUS_EMPLOYMENT         0\n",
       "NEW_CONCURRENT_EMPLOYMENT          0\n",
       "CHANGE_EMPLOYER                    0\n",
       "AMENDED_PETITION                   0\n",
       "FULL_TIME_POSITION                 4\n",
       "PREVAILING_WAGE                    0\n",
       "PW_UNIT_OF_PAY                    35\n",
       "PW_WAGE_LEVEL                  27217\n",
       "PW_SOURCE                         35\n",
       "PW_SOURCE_YEAR                    33\n",
       "PW_SOURCE_OTHER                 5117\n",
       "WAGE_RATE_OF_PAY_FROM              0\n",
       "WAGE_RATE_OF_PAY_TO                1\n",
       "WAGE_UNIT_OF_PAY                   6\n",
       "H1B_DEPENDENT                  10301\n",
       "WILLFUL_VIOLATOR               10302\n",
       "SUPPORT_H1B                        0\n",
       "WORKSITE_CITY                     10\n",
       "WORKSITE_COUNTY                 1006\n",
       "WORKSITE_STATE                     6\n",
       "WORKSITE_POSTAL_CODE              15\n",
       "dtype: int64"
      ]
     },
     "execution_count": 102,
     "metadata": {},
     "output_type": "execute_result"
    }
   ],
   "source": [
    "df.isna().sum()"
   ]
  },
  {
   "cell_type": "code",
   "execution_count": 145,
   "metadata": {},
   "outputs": [],
   "source": [
    "df['FULL_TIME_POSITION'].fillna(df['FULL_TIME_POSITION'].mode()[0], inplace = True)"
   ]
  },
  {
   "cell_type": "code",
   "execution_count": 106,
   "metadata": {},
   "outputs": [
    {
     "data": {
      "text/plain": [
       "Year         494568\n",
       "Hour          33108\n",
       "Month           263\n",
       "Week            123\n",
       "Bi-Weekly        47\n",
       "Name: PW_UNIT_OF_PAY, dtype: int64"
      ]
     },
     "execution_count": 106,
     "metadata": {},
     "output_type": "execute_result"
    }
   ],
   "source": [
    "df['PW_UNIT_OF_PAY'].value_counts()"
   ]
  },
  {
   "cell_type": "code",
   "execution_count": 146,
   "metadata": {},
   "outputs": [],
   "source": [
    "df['PW_UNIT_OF_PAY'].fillna(df['PW_UNIT_OF_PAY'].mode()[0], inplace = True)"
   ]
  },
  {
   "cell_type": "code",
   "execution_count": 108,
   "metadata": {
    "collapsed": true
   },
   "outputs": [
    {
     "data": {
      "text/plain": [
       "CASE_NUMBER                        0\n",
       "CASE_STATUS                        0\n",
       "CASE_SUBMITTED                     0\n",
       "DECISION_DATE                      0\n",
       "VISA_CLASS                         0\n",
       "EMPLOYMENT_START_DATE             17\n",
       "EMPLOYMENT_END_DATE               17\n",
       "EMPLOYER_CITY                     14\n",
       "AGENT_REPRESENTING_EMPLOYER        0\n",
       "JOB_TITLE                          3\n",
       "SOC_CODE                           0\n",
       "NAICS_CODE                         0\n",
       "TOTAL_WORKERS                      0\n",
       "NEW_EMPLOYMENT                     0\n",
       "CHANGE_PREVIOUS_EMPLOYMENT         0\n",
       "NEW_CONCURRENT_EMPLOYMENT          0\n",
       "CHANGE_EMPLOYER                    0\n",
       "AMENDED_PETITION                   0\n",
       "FULL_TIME_POSITION                 0\n",
       "PREVAILING_WAGE                    0\n",
       "PW_UNIT_OF_PAY                     0\n",
       "PW_WAGE_LEVEL                  27217\n",
       "PW_SOURCE                         35\n",
       "PW_SOURCE_YEAR                    33\n",
       "PW_SOURCE_OTHER                 5117\n",
       "WAGE_RATE_OF_PAY_FROM              0\n",
       "WAGE_RATE_OF_PAY_TO                1\n",
       "WAGE_UNIT_OF_PAY                   6\n",
       "H1B_DEPENDENT                  10301\n",
       "WILLFUL_VIOLATOR               10302\n",
       "SUPPORT_H1B                        0\n",
       "WORKSITE_CITY                     10\n",
       "WORKSITE_COUNTY                 1006\n",
       "WORKSITE_STATE                     6\n",
       "WORKSITE_POSTAL_CODE              15\n",
       "dtype: int64"
      ]
     },
     "execution_count": 108,
     "metadata": {},
     "output_type": "execute_result"
    }
   ],
   "source": [
    "df.isna().sum()"
   ]
  },
  {
   "cell_type": "code",
   "execution_count": 147,
   "metadata": {},
   "outputs": [],
   "source": [
    "df['PW_WAGE_LEVEL'].fillna(\"NA\", inplace = True)"
   ]
  },
  {
   "cell_type": "code",
   "execution_count": 110,
   "metadata": {
    "collapsed": true
   },
   "outputs": [
    {
     "data": {
      "text/plain": [
       "CASE_NUMBER                        0\n",
       "CASE_STATUS                        0\n",
       "CASE_SUBMITTED                     0\n",
       "DECISION_DATE                      0\n",
       "VISA_CLASS                         0\n",
       "EMPLOYMENT_START_DATE             17\n",
       "EMPLOYMENT_END_DATE               17\n",
       "EMPLOYER_CITY                     14\n",
       "AGENT_REPRESENTING_EMPLOYER        0\n",
       "JOB_TITLE                          3\n",
       "SOC_CODE                           0\n",
       "NAICS_CODE                         0\n",
       "TOTAL_WORKERS                      0\n",
       "NEW_EMPLOYMENT                     0\n",
       "CHANGE_PREVIOUS_EMPLOYMENT         0\n",
       "NEW_CONCURRENT_EMPLOYMENT          0\n",
       "CHANGE_EMPLOYER                    0\n",
       "AMENDED_PETITION                   0\n",
       "FULL_TIME_POSITION                 0\n",
       "PREVAILING_WAGE                    0\n",
       "PW_UNIT_OF_PAY                     0\n",
       "PW_WAGE_LEVEL                      0\n",
       "PW_SOURCE                         35\n",
       "PW_SOURCE_YEAR                    33\n",
       "PW_SOURCE_OTHER                 5117\n",
       "WAGE_RATE_OF_PAY_FROM              0\n",
       "WAGE_RATE_OF_PAY_TO                1\n",
       "WAGE_UNIT_OF_PAY                   6\n",
       "H1B_DEPENDENT                  10301\n",
       "WILLFUL_VIOLATOR               10302\n",
       "SUPPORT_H1B                        0\n",
       "WORKSITE_CITY                     10\n",
       "WORKSITE_COUNTY                 1006\n",
       "WORKSITE_STATE                     6\n",
       "WORKSITE_POSTAL_CODE              15\n",
       "dtype: int64"
      ]
     },
     "execution_count": 110,
     "metadata": {},
     "output_type": "execute_result"
    }
   ],
   "source": [
    "df.isna().sum()"
   ]
  },
  {
   "cell_type": "code",
   "execution_count": 148,
   "metadata": {},
   "outputs": [
    {
     "data": {
      "text/plain": [
       "OES      425183\n",
       "Other     99563\n",
       "CBA        3327\n",
       "DBA          20\n",
       "SCA          16\n",
       "Name: PW_SOURCE, dtype: int64"
      ]
     },
     "execution_count": 148,
     "metadata": {},
     "output_type": "execute_result"
    }
   ],
   "source": [
    "df['PW_SOURCE'].value_counts()"
   ]
  },
  {
   "cell_type": "code",
   "execution_count": 149,
   "metadata": {},
   "outputs": [],
   "source": [
    "df['PW_SOURCE'].fillna(df['PW_SOURCE'].mode()[0], inplace = True)"
   ]
  },
  {
   "cell_type": "code",
   "execution_count": 113,
   "metadata": {
    "collapsed": true
   },
   "outputs": [
    {
     "data": {
      "text/plain": [
       "CASE_NUMBER                        0\n",
       "CASE_STATUS                        0\n",
       "CASE_SUBMITTED                     0\n",
       "DECISION_DATE                      0\n",
       "VISA_CLASS                         0\n",
       "EMPLOYMENT_START_DATE             17\n",
       "EMPLOYMENT_END_DATE               17\n",
       "EMPLOYER_CITY                     14\n",
       "AGENT_REPRESENTING_EMPLOYER        0\n",
       "JOB_TITLE                          3\n",
       "SOC_CODE                           0\n",
       "NAICS_CODE                         0\n",
       "TOTAL_WORKERS                      0\n",
       "NEW_EMPLOYMENT                     0\n",
       "CHANGE_PREVIOUS_EMPLOYMENT         0\n",
       "NEW_CONCURRENT_EMPLOYMENT          0\n",
       "CHANGE_EMPLOYER                    0\n",
       "AMENDED_PETITION                   0\n",
       "FULL_TIME_POSITION                 0\n",
       "PREVAILING_WAGE                    0\n",
       "PW_UNIT_OF_PAY                     0\n",
       "PW_WAGE_LEVEL                      0\n",
       "PW_SOURCE                          0\n",
       "PW_SOURCE_YEAR                    33\n",
       "PW_SOURCE_OTHER                 5117\n",
       "WAGE_RATE_OF_PAY_FROM              0\n",
       "WAGE_RATE_OF_PAY_TO                1\n",
       "WAGE_UNIT_OF_PAY                   6\n",
       "H1B_DEPENDENT                  10301\n",
       "WILLFUL_VIOLATOR               10302\n",
       "SUPPORT_H1B                        0\n",
       "WORKSITE_CITY                     10\n",
       "WORKSITE_COUNTY                 1006\n",
       "WORKSITE_STATE                     6\n",
       "WORKSITE_POSTAL_CODE              15\n",
       "dtype: int64"
      ]
     },
     "execution_count": 113,
     "metadata": {},
     "output_type": "execute_result"
    }
   ],
   "source": [
    "df.isna().sum()"
   ]
  },
  {
   "cell_type": "code",
   "execution_count": 150,
   "metadata": {},
   "outputs": [],
   "source": [
    "df = df[df['PW_SOURCE_YEAR'].notna()]"
   ]
  },
  {
   "cell_type": "code",
   "execution_count": 115,
   "metadata": {
    "collapsed": true
   },
   "outputs": [
    {
     "data": {
      "text/plain": [
       "CASE_NUMBER                        0\n",
       "CASE_STATUS                        0\n",
       "CASE_SUBMITTED                     0\n",
       "DECISION_DATE                      0\n",
       "VISA_CLASS                         0\n",
       "EMPLOYMENT_START_DATE             17\n",
       "EMPLOYMENT_END_DATE               16\n",
       "EMPLOYER_CITY                     14\n",
       "AGENT_REPRESENTING_EMPLOYER        0\n",
       "JOB_TITLE                          3\n",
       "SOC_CODE                           0\n",
       "NAICS_CODE                         0\n",
       "TOTAL_WORKERS                      0\n",
       "NEW_EMPLOYMENT                     0\n",
       "CHANGE_PREVIOUS_EMPLOYMENT         0\n",
       "NEW_CONCURRENT_EMPLOYMENT          0\n",
       "CHANGE_EMPLOYER                    0\n",
       "AMENDED_PETITION                   0\n",
       "FULL_TIME_POSITION                 0\n",
       "PREVAILING_WAGE                    0\n",
       "PW_UNIT_OF_PAY                     0\n",
       "PW_WAGE_LEVEL                      0\n",
       "PW_SOURCE                          0\n",
       "PW_SOURCE_YEAR                     0\n",
       "PW_SOURCE_OTHER                 5088\n",
       "WAGE_RATE_OF_PAY_FROM              0\n",
       "WAGE_RATE_OF_PAY_TO                1\n",
       "WAGE_UNIT_OF_PAY                   5\n",
       "H1B_DEPENDENT                  10291\n",
       "WILLFUL_VIOLATOR               10292\n",
       "SUPPORT_H1B                        0\n",
       "WORKSITE_CITY                      8\n",
       "WORKSITE_COUNTY                 1004\n",
       "WORKSITE_STATE                     4\n",
       "WORKSITE_POSTAL_CODE              13\n",
       "dtype: int64"
      ]
     },
     "execution_count": 115,
     "metadata": {},
     "output_type": "execute_result"
    }
   ],
   "source": [
    "df.isna().sum()"
   ]
  },
  {
   "cell_type": "code",
   "execution_count": 151,
   "metadata": {},
   "outputs": [
    {
     "data": {
      "text/plain": [
       "OFLC ONLINE DATA CENTER                                                                  490756\n",
       "RADFORD GLOBAL TECHNOLOGY SURVEY                                                           9633\n",
       "ONLINE WAGE LIBRARY                                                                        1544\n",
       "WWW.FLCDATACENTER.COM                                                                      1129\n",
       "RADFORD GLOBAL TECHNOLOGY SURVEY CUSTOM REPORT                                              992\n",
       "OFLC (ONLINE DATA CENTER)                                                                   972\n",
       "OFLC ONLINE DATACENTER                                                                      939\n",
       "AAMC SURVEY OF RESIDENT/FELLOW STIPENDS AND BENEFITS                                        558\n",
       "DIETRICH FALL 2016 ENGINEERING SALARY SURVEY                                                484\n",
       "WILLIS TOWERS WATSON: PROFESSIONAL (TECHNICAL AND OPERATIONS) COMPENSATION SUR              455\n",
       "COLLECTIVE BARGAINING AGREEMENT                                                             447\n",
       "US MBD MERCER BENCHMARK DATABASE IT SURVEY                                                  328\n",
       "FLC DATA CENTER ONLINE WAGE LIBRARY                                                         312\n",
       "AAMC SURVEY OF RESIDENT/FELLOW STIPENDS AND BENEFITS REPORT                                 247\n",
       "FLC ONLINE DATA CENTER                                                                      243\n",
       "TOWERS WATSON:  2016 PROFESSIONAL (ADMINISTRATIVE AND SALES) COMPENSATION SURV              204\n",
       "TOWERS WATSON PROFESSIONAL (TECHNICAL AND OPERATIONS) COMPENSATION SURVEY                   192\n",
       "HTTP://WWW.FLCDATACENTER.COM                                                                188\n",
       "RADFORD GLOBAL TECHNOLOGY SURVEY-CUSTOM REPORT                                              177\n",
       "FLC DATA CENTER                                                                             176\n",
       "OFLC DATA CENTER                                                                            164\n",
       "OFLC ONLINE WAGE LIBRARY                                                                    163\n",
       "RADFORD GLOBAL TECHNOLOGY SURVERY                                                           157\n",
       "DIETRICH 2016 FALL ENGINEERING SALARY SURVEY                                                149\n",
       "OFLC ONLINE DATA CENTRE                                                                     144\n",
       "OFLC ONLINE DATA CENTER ACWIA                                                               141\n",
       "AAMC SURVEY OF RESIDENT FELLOW STIPENDS & BENEFITS                                          137\n",
       "FLC ONLINE WAGE LIBRARY                                                                     136\n",
       "AAMC SURVEY OF RESIDENT/FELLOW STIPENDS & BENEFITS                                          115\n",
       "AAMC SURVEY OF RESIDENT/FELLOW STIPENDS                                                     112\n",
       "                                                                                          ...  \n",
       "U.S. DOL BUREAU OF LABOR STATISTICS (BLS) OCCUPATIONAL EMPLOYMENT STATISTICS                  1\n",
       "TOWERS WATSON DATA SERVICE CDB GENERAL INDUSTRY MIDDLE MGMT ENGINEERING ENTRY                 1\n",
       "BOE, DISTRICT 54, ILLINOIS                                                                    1\n",
       "WILLIS TOWERS WATSON:PROFESSIONAL(TECHNICAL&OPERATIONS)COMPENSATION SURVEY                    1\n",
       "MEDICALGROUPMANAGMENTASSOCIATION:PHYSICIANPLACEMENTSTARTINGSALARYSURVEY2016                   1\n",
       "FOREIGN LABOR CERTIFICATION DATA CENTER ONLINE WAGE LIBRARY FLCDATACENTER.COM                 1\n",
       "MASSACHUSETTS ORGANIZATION OF ENGINEERS AND SCIENTISTS, UNIT 9 (MOSES)                        1\n",
       "TOWERS WATSON DATA SERVICES ENGINEERING, DESIGN & TECHNICAL SPECIALTY COMPENSA                1\n",
       "US MBD - MERCER/ GARTNER INFORMATION TECHNOLOGY                                               1\n",
       "WILLIS TOWERS WATSON CSR PROFESSIONAL ADMIN & SALES COMP SURVEY                               1\n",
       "2016 MBD MERCER BENCHMARK DATABASE                                                            1\n",
       "APWD, INC: TOWERS WATSON: PROFESSIONAL (TECHNICAL AND OPERATIONS) COMPENSATION SURVEY         1\n",
       "TOWERS WATSON DATA SERVICES CSR PROFESSIONAL (TECHNICAL & OPERATIONS) REPORT                  1\n",
       "WILLIS TOWERS WATSON:  PROF. (TECH. & OPERATIONS) COMPENSATION SURVEY                         1\n",
       "WILLIS TOWERS WATSON: PROF. (ADMINISTRATIVE AND SALES) COMPENSATION SURVEY                    1\n",
       "WILLIS TOWERS WATSON DATA SERVICES 2016 CSR GENERAL INDUSTRY PROFESSIONAL (ADM                1\n",
       "ASSOCIATION OF ADMINISTRATORS IN AMERICAN PEDIATRICS SALARY SURVEY                            1\n",
       "WLLIS TOWER WATSON 2016 ACCOUNTING AND FINANCE COMPENSATION SURVEY                            1\n",
       "TOWERS WATSON PROFESSIONAL ( TECHNICAL AND OPERATIONS) COMPENSATION SURVEY                    1\n",
       "WILLIS TOWERS WATSON: CSR GENERAL INDUS PROF. (TECH & OP.) COMP SURVEY REP. US                1\n",
       "OFLCONLINE DATA CENTER                                                                        1\n",
       "ADVERTISING FOR POSITION ON CAREER SITE, RECRUITING EVENTS, WEBSITE.                          1\n",
       "MERCER BENCHMARK DATABASE: LOGISTICS AND SUPPLY CHAIN COMPENSATION SURVEY                     1\n",
       "2016 WILLIS TOWERS WATSON ACCOUNTING AND FINANCE COMPENSATION SURVEY                          1\n",
       "HUMAN RESOURCE ASSOCIATION OF THE NATIONAL CAPITAL AREA COMPENSATION SURVEY REPORT            1\n",
       "WILLIS TOWERS WATSON PROFESSIONAL ADMINISTRATIVE AND SALES COMPENSATION SURVEY                1\n",
       "THE SURVEY GROUP: BENCHMARK  COMPENSATION SURVEY                                              1\n",
       "RADFORD GLOBAL TECHCNOLOGY SURVEY                                                             1\n",
       "OFLC &QUOT; ONLINE DATA CENTER&QUOT;                                                          1\n",
       "PAYSCALE                                                                                      1\n",
       "Name: PW_SOURCE_OTHER, Length: 2560, dtype: int64"
      ]
     },
     "execution_count": 151,
     "metadata": {},
     "output_type": "execute_result"
    }
   ],
   "source": [
    "df['PW_SOURCE_OTHER'].value_counts()"
   ]
  },
  {
   "cell_type": "code",
   "execution_count": 152,
   "metadata": {},
   "outputs": [],
   "source": [
    "df['PW_SOURCE_OTHER'].fillna(df['PW_SOURCE_OTHER'].mode()[0], inplace = True)"
   ]
  },
  {
   "cell_type": "code",
   "execution_count": 118,
   "metadata": {},
   "outputs": [
    {
     "data": {
      "text/plain": [
       "CASE_NUMBER                        0\n",
       "CASE_STATUS                        0\n",
       "CASE_SUBMITTED                     0\n",
       "DECISION_DATE                      0\n",
       "VISA_CLASS                         0\n",
       "EMPLOYMENT_START_DATE             17\n",
       "EMPLOYMENT_END_DATE               16\n",
       "EMPLOYER_CITY                     14\n",
       "AGENT_REPRESENTING_EMPLOYER        0\n",
       "JOB_TITLE                          3\n",
       "SOC_CODE                           0\n",
       "NAICS_CODE                         0\n",
       "TOTAL_WORKERS                      0\n",
       "NEW_EMPLOYMENT                     0\n",
       "CHANGE_PREVIOUS_EMPLOYMENT         0\n",
       "NEW_CONCURRENT_EMPLOYMENT          0\n",
       "CHANGE_EMPLOYER                    0\n",
       "AMENDED_PETITION                   0\n",
       "FULL_TIME_POSITION                 0\n",
       "PREVAILING_WAGE                    0\n",
       "PW_UNIT_OF_PAY                     0\n",
       "PW_WAGE_LEVEL                      0\n",
       "PW_SOURCE                          0\n",
       "PW_SOURCE_YEAR                     0\n",
       "PW_SOURCE_OTHER                    0\n",
       "WAGE_RATE_OF_PAY_FROM              0\n",
       "WAGE_RATE_OF_PAY_TO                1\n",
       "WAGE_UNIT_OF_PAY                   5\n",
       "H1B_DEPENDENT                  10291\n",
       "WILLFUL_VIOLATOR               10292\n",
       "SUPPORT_H1B                        0\n",
       "WORKSITE_CITY                      8\n",
       "WORKSITE_COUNTY                 1004\n",
       "WORKSITE_STATE                     4\n",
       "WORKSITE_POSTAL_CODE              13\n",
       "dtype: int64"
      ]
     },
     "execution_count": 118,
     "metadata": {},
     "output_type": "execute_result"
    }
   ],
   "source": [
    "df.isna().sum()"
   ]
  },
  {
   "cell_type": "code",
   "execution_count": 153,
   "metadata": {},
   "outputs": [],
   "source": [
    "df = df[(df['WAGE_RATE_OF_PAY_TO'].notna()) & (df['WAGE_RATE_OF_PAY_FROM'].notna())]"
   ]
  },
  {
   "cell_type": "code",
   "execution_count": 120,
   "metadata": {
    "collapsed": true
   },
   "outputs": [
    {
     "data": {
      "text/plain": [
       "CASE_NUMBER                        0\n",
       "CASE_STATUS                        0\n",
       "CASE_SUBMITTED                     0\n",
       "DECISION_DATE                      0\n",
       "VISA_CLASS                         0\n",
       "EMPLOYMENT_START_DATE             17\n",
       "EMPLOYMENT_END_DATE               16\n",
       "EMPLOYER_CITY                     14\n",
       "AGENT_REPRESENTING_EMPLOYER        0\n",
       "JOB_TITLE                          3\n",
       "SOC_CODE                           0\n",
       "NAICS_CODE                         0\n",
       "TOTAL_WORKERS                      0\n",
       "NEW_EMPLOYMENT                     0\n",
       "CHANGE_PREVIOUS_EMPLOYMENT         0\n",
       "NEW_CONCURRENT_EMPLOYMENT          0\n",
       "CHANGE_EMPLOYER                    0\n",
       "AMENDED_PETITION                   0\n",
       "FULL_TIME_POSITION                 0\n",
       "PREVAILING_WAGE                    0\n",
       "PW_UNIT_OF_PAY                     0\n",
       "PW_WAGE_LEVEL                      0\n",
       "PW_SOURCE                          0\n",
       "PW_SOURCE_YEAR                     0\n",
       "PW_SOURCE_OTHER                    0\n",
       "WAGE_RATE_OF_PAY_FROM              0\n",
       "WAGE_RATE_OF_PAY_TO                0\n",
       "WAGE_UNIT_OF_PAY                   5\n",
       "H1B_DEPENDENT                  10291\n",
       "WILLFUL_VIOLATOR               10292\n",
       "SUPPORT_H1B                        0\n",
       "WORKSITE_CITY                      8\n",
       "WORKSITE_COUNTY                 1004\n",
       "WORKSITE_STATE                     3\n",
       "WORKSITE_POSTAL_CODE              13\n",
       "dtype: int64"
      ]
     },
     "execution_count": 120,
     "metadata": {},
     "output_type": "execute_result"
    }
   ],
   "source": [
    "df.isna().sum()"
   ]
  },
  {
   "cell_type": "code",
   "execution_count": 154,
   "metadata": {},
   "outputs": [],
   "source": [
    "df = df[df['WAGE_UNIT_OF_PAY'].notna()]"
   ]
  },
  {
   "cell_type": "code",
   "execution_count": 122,
   "metadata": {},
   "outputs": [
    {
     "data": {
      "text/plain": [
       "CASE_NUMBER                        0\n",
       "CASE_STATUS                        0\n",
       "CASE_SUBMITTED                     0\n",
       "DECISION_DATE                      0\n",
       "VISA_CLASS                         0\n",
       "EMPLOYMENT_START_DATE             17\n",
       "EMPLOYMENT_END_DATE               16\n",
       "EMPLOYER_CITY                     14\n",
       "AGENT_REPRESENTING_EMPLOYER        0\n",
       "JOB_TITLE                          3\n",
       "SOC_CODE                           0\n",
       "NAICS_CODE                         0\n",
       "TOTAL_WORKERS                      0\n",
       "NEW_EMPLOYMENT                     0\n",
       "CHANGE_PREVIOUS_EMPLOYMENT         0\n",
       "NEW_CONCURRENT_EMPLOYMENT          0\n",
       "CHANGE_EMPLOYER                    0\n",
       "AMENDED_PETITION                   0\n",
       "FULL_TIME_POSITION                 0\n",
       "PREVAILING_WAGE                    0\n",
       "PW_UNIT_OF_PAY                     0\n",
       "PW_WAGE_LEVEL                      0\n",
       "PW_SOURCE                          0\n",
       "PW_SOURCE_YEAR                     0\n",
       "PW_SOURCE_OTHER                    0\n",
       "WAGE_RATE_OF_PAY_FROM              0\n",
       "WAGE_RATE_OF_PAY_TO                0\n",
       "WAGE_UNIT_OF_PAY                   0\n",
       "H1B_DEPENDENT                  10291\n",
       "WILLFUL_VIOLATOR               10292\n",
       "SUPPORT_H1B                        0\n",
       "WORKSITE_CITY                      8\n",
       "WORKSITE_COUNTY                 1004\n",
       "WORKSITE_STATE                     3\n",
       "WORKSITE_POSTAL_CODE              13\n",
       "dtype: int64"
      ]
     },
     "execution_count": 122,
     "metadata": {},
     "output_type": "execute_result"
    }
   ],
   "source": [
    "df.isna().sum()"
   ]
  },
  {
   "cell_type": "code",
   "execution_count": 155,
   "metadata": {},
   "outputs": [],
   "source": [
    "df.drop(['WORKSITE_COUNTY', 'WORKSITE_CITY', 'WORKSITE_POSTAL_CODE'], 1, inplace = True)"
   ]
  },
  {
   "cell_type": "code",
   "execution_count": 157,
   "metadata": {
    "collapsed": true
   },
   "outputs": [
    {
     "data": {
      "text/plain": [
       "CASE_NUMBER                        0\n",
       "CASE_STATUS                        0\n",
       "CASE_SUBMITTED                     0\n",
       "DECISION_DATE                      0\n",
       "VISA_CLASS                         0\n",
       "EMPLOYMENT_START_DATE             17\n",
       "EMPLOYMENT_END_DATE               16\n",
       "EMPLOYER_CITY                     14\n",
       "AGENT_REPRESENTING_EMPLOYER        0\n",
       "JOB_TITLE                          3\n",
       "SOC_CODE                           0\n",
       "NAICS_CODE                         0\n",
       "TOTAL_WORKERS                      0\n",
       "NEW_EMPLOYMENT                     0\n",
       "CHANGE_PREVIOUS_EMPLOYMENT         0\n",
       "NEW_CONCURRENT_EMPLOYMENT          0\n",
       "CHANGE_EMPLOYER                    0\n",
       "AMENDED_PETITION                   0\n",
       "FULL_TIME_POSITION                 0\n",
       "PREVAILING_WAGE                    0\n",
       "PW_UNIT_OF_PAY                     0\n",
       "PW_WAGE_LEVEL                      0\n",
       "PW_SOURCE                          0\n",
       "PW_SOURCE_YEAR                     0\n",
       "PW_SOURCE_OTHER                    0\n",
       "WAGE_RATE_OF_PAY_FROM              0\n",
       "WAGE_RATE_OF_PAY_TO                0\n",
       "WAGE_UNIT_OF_PAY                   0\n",
       "H1B_DEPENDENT                  10291\n",
       "WILLFUL_VIOLATOR               10292\n",
       "SUPPORT_H1B                        0\n",
       "WORKSITE_STATE                     3\n",
       "dtype: int64"
      ]
     },
     "execution_count": 157,
     "metadata": {},
     "output_type": "execute_result"
    }
   ],
   "source": [
    "df.isna().sum()"
   ]
  },
  {
   "cell_type": "code",
   "execution_count": 156,
   "metadata": {},
   "outputs": [
    {
     "data": {
      "text/plain": [
       "N    322845\n",
       "Y    194969\n",
       "Name: H1B_DEPENDENT, dtype: int64"
      ]
     },
     "execution_count": 156,
     "metadata": {},
     "output_type": "execute_result"
    }
   ],
   "source": [
    "df['H1B_DEPENDENT'].value_counts()"
   ]
  },
  {
   "cell_type": "code",
   "execution_count": 158,
   "metadata": {},
   "outputs": [],
   "source": [
    "df = df[(df['H1B_DEPENDENT'].notna()) & (df['WILLFUL_VIOLATOR'].notna())]"
   ]
  },
  {
   "cell_type": "code",
   "execution_count": 159,
   "metadata": {},
   "outputs": [
    {
     "data": {
      "text/plain": [
       "CASE_NUMBER                     0\n",
       "CASE_STATUS                     0\n",
       "CASE_SUBMITTED                  0\n",
       "DECISION_DATE                   0\n",
       "VISA_CLASS                      0\n",
       "EMPLOYMENT_START_DATE          15\n",
       "EMPLOYMENT_END_DATE            15\n",
       "EMPLOYER_CITY                  14\n",
       "AGENT_REPRESENTING_EMPLOYER     0\n",
       "JOB_TITLE                       3\n",
       "SOC_CODE                        0\n",
       "NAICS_CODE                      0\n",
       "TOTAL_WORKERS                   0\n",
       "NEW_EMPLOYMENT                  0\n",
       "CHANGE_PREVIOUS_EMPLOYMENT      0\n",
       "NEW_CONCURRENT_EMPLOYMENT       0\n",
       "CHANGE_EMPLOYER                 0\n",
       "AMENDED_PETITION                0\n",
       "FULL_TIME_POSITION              0\n",
       "PREVAILING_WAGE                 0\n",
       "PW_UNIT_OF_PAY                  0\n",
       "PW_WAGE_LEVEL                   0\n",
       "PW_SOURCE                       0\n",
       "PW_SOURCE_YEAR                  0\n",
       "PW_SOURCE_OTHER                 0\n",
       "WAGE_RATE_OF_PAY_FROM           0\n",
       "WAGE_RATE_OF_PAY_TO             0\n",
       "WAGE_UNIT_OF_PAY                0\n",
       "H1B_DEPENDENT                   0\n",
       "WILLFUL_VIOLATOR                0\n",
       "SUPPORT_H1B                     0\n",
       "WORKSITE_STATE                  3\n",
       "dtype: int64"
      ]
     },
     "execution_count": 159,
     "metadata": {},
     "output_type": "execute_result"
    }
   ],
   "source": [
    "df.isna().sum()"
   ]
  },
  {
   "cell_type": "code",
   "execution_count": 160,
   "metadata": {},
   "outputs": [
    {
     "data": {
      "text/plain": [
       "(517813, 32)"
      ]
     },
     "execution_count": 160,
     "metadata": {},
     "output_type": "execute_result"
    }
   ],
   "source": [
    "df.shape"
   ]
  },
  {
   "cell_type": "code",
   "execution_count": 161,
   "metadata": {
    "collapsed": true
   },
   "outputs": [
    {
     "data": {
      "text/plain": [
       "CA    98504\n",
       "TX    55905\n",
       "NY    43692\n",
       "NJ    36628\n",
       "IL    26743\n",
       "MA    20935\n",
       "WA    19628\n",
       "GA    19056\n",
       "FL    18259\n",
       "PA    18019\n",
       "MI    17163\n",
       "VA    15002\n",
       "NC    14081\n",
       "OH    12705\n",
       "MD     8853\n",
       "MN     8740\n",
       "AZ     7957\n",
       "CT     6813\n",
       "MO     6800\n",
       "TN     5676\n",
       "WI     5430\n",
       "CO     5275\n",
       "IN     5069\n",
       "OR     3817\n",
       "DC     3298\n",
       "DE     2827\n",
       "IA     2528\n",
       "UT     2525\n",
       "SC     2461\n",
       "AR     2392\n",
       "KS     2295\n",
       "KY     2198\n",
       "RI     1987\n",
       "NE     1739\n",
       "LA     1642\n",
       "AL     1474\n",
       "OK     1454\n",
       "NH     1184\n",
       "NV     1168\n",
       "ID      739\n",
       "NM      681\n",
       "MS      621\n",
       "PR      536\n",
       "ME      536\n",
       "WV      430\n",
       "HI      417\n",
       "ND      377\n",
       "VT      331\n",
       "MP      260\n",
       "SD      255\n",
       "GU      223\n",
       "AK      172\n",
       "MT      154\n",
       "WY      111\n",
       "VI       43\n",
       "PW        1\n",
       "FM        1\n",
       "Name: WORKSITE_STATE, dtype: int64"
      ]
     },
     "execution_count": 161,
     "metadata": {},
     "output_type": "execute_result"
    }
   ],
   "source": [
    "df['WORKSITE_STATE'].value_counts()"
   ]
  },
  {
   "cell_type": "code",
   "execution_count": 162,
   "metadata": {},
   "outputs": [],
   "source": [
    "df['WORKSITE_STATE'].fillna(df['WORKSITE_STATE'].mode()[0], inplace = True)"
   ]
  },
  {
   "cell_type": "code",
   "execution_count": 166,
   "metadata": {
    "collapsed": true
   },
   "outputs": [
    {
     "data": {
      "text/plain": [
       "CASE_NUMBER                     0\n",
       "CASE_STATUS                     0\n",
       "CASE_SUBMITTED                  0\n",
       "DECISION_DATE                   0\n",
       "VISA_CLASS                      0\n",
       "EMPLOYMENT_START_DATE          15\n",
       "EMPLOYMENT_END_DATE            15\n",
       "EMPLOYER_CITY                  14\n",
       "AGENT_REPRESENTING_EMPLOYER     0\n",
       "JOB_TITLE                       0\n",
       "SOC_CODE                        0\n",
       "NAICS_CODE                      0\n",
       "TOTAL_WORKERS                   0\n",
       "NEW_EMPLOYMENT                  0\n",
       "CHANGE_PREVIOUS_EMPLOYMENT      0\n",
       "NEW_CONCURRENT_EMPLOYMENT       0\n",
       "CHANGE_EMPLOYER                 0\n",
       "AMENDED_PETITION                0\n",
       "FULL_TIME_POSITION              0\n",
       "PREVAILING_WAGE                 0\n",
       "PW_UNIT_OF_PAY                  0\n",
       "PW_WAGE_LEVEL                   0\n",
       "PW_SOURCE                       0\n",
       "PW_SOURCE_YEAR                  0\n",
       "PW_SOURCE_OTHER                 0\n",
       "WAGE_RATE_OF_PAY_FROM           0\n",
       "WAGE_RATE_OF_PAY_TO             0\n",
       "WAGE_UNIT_OF_PAY                0\n",
       "H1B_DEPENDENT                   0\n",
       "WILLFUL_VIOLATOR                0\n",
       "SUPPORT_H1B                     0\n",
       "WORKSITE_STATE                  0\n",
       "dtype: int64"
      ]
     },
     "execution_count": 166,
     "metadata": {},
     "output_type": "execute_result"
    }
   ],
   "source": [
    "df.isna().sum()"
   ]
  },
  {
   "cell_type": "code",
   "execution_count": 165,
   "metadata": {},
   "outputs": [],
   "source": [
    "df = df[df['JOB_TITLE'].notna()]"
   ]
  },
  {
   "cell_type": "code",
   "execution_count": 167,
   "metadata": {
    "collapsed": true
   },
   "outputs": [
    {
     "data": {
      "text/plain": [
       "PLANO                 29167\n",
       "NEW YORK              24153\n",
       "CHICAGO               21077\n",
       "ROCKVILLE             11608\n",
       "EDISON                10537\n",
       "DURHAM                10011\n",
       "PHILADELPHIA           9513\n",
       "TROY                   9301\n",
       "IRVING                 8813\n",
       "SAN FRANCISCO          8656\n",
       "HOUSTON                8319\n",
       "SAN JOSE               7681\n",
       "SANTA CLARA            7469\n",
       "MOUNTAIN VIEW          7350\n",
       "SUNNYVALE              7325\n",
       "DALLAS                 7237\n",
       "SEATTLE                6042\n",
       "BOSTON                 5466\n",
       "SECAUCUS               5380\n",
       "PISCATAWAY             5297\n",
       "TAMPA                  4987\n",
       "EAST BRUNSWICK         4971\n",
       "REDMOND                4920\n",
       "ATLANTA                4377\n",
       "ISELIN                 3909\n",
       "PALO ALTO              3886\n",
       "PRINCETON              3824\n",
       "FREMONT                3800\n",
       "ALPHARETTA             3698\n",
       "JERSEY CITY            3375\n",
       "                      ...  \n",
       "MAYVILLE                  1\n",
       "MONACA                    1\n",
       "EAST GRAND RAPIDS         1\n",
       "WAIPAHU                   1\n",
       "KINGS MOUNTAIN            1\n",
       "YOUNG HARRIS              1\n",
       "FT YATES                  1\n",
       "WA                        1\n",
       "MCEWEN                    1\n",
       "GREENPORT                 1\n",
       "SALT LAKE CTY             1\n",
       "DINUBA                    1\n",
       "CENTURY CITY              1\n",
       "BROOKPARK                 1\n",
       "TYLERTOWN                 1\n",
       "RAINBOW CITY              1\n",
       "ACCOMAC                   1\n",
       "BKOOKLYN                  1\n",
       "VALENTINE                 1\n",
       "COTULLA                   1\n",
       "MONEE                     1\n",
       "2800 W 15TH STREET        1\n",
       "TARRY TOWN                1\n",
       "BELLMORE                  1\n",
       "WOODSVILLE                1\n",
       "MATTESON                  1\n",
       "HIRAM                     1\n",
       "QUANTICO                  1\n",
       "HOLLIDAYSBURG             1\n",
       "DYERSBURG                 1\n",
       "Name: EMPLOYER_CITY, Length: 4801, dtype: int64"
      ]
     },
     "execution_count": 167,
     "metadata": {},
     "output_type": "execute_result"
    }
   ],
   "source": [
    "df['EMPLOYER_CITY'].value_counts()"
   ]
  },
  {
   "cell_type": "code",
   "execution_count": 168,
   "metadata": {},
   "outputs": [],
   "source": [
    "df.dropna(inplace = True)"
   ]
  },
  {
   "cell_type": "code",
   "execution_count": 169,
   "metadata": {},
   "outputs": [],
   "source": [
    "df.to_pickle('cleaned_data(6feb)')"
   ]
  },
  {
   "cell_type": "code",
   "execution_count": 170,
   "metadata": {},
   "outputs": [
    {
     "data": {
      "text/plain": [
       "CASE_NUMBER                    0\n",
       "CASE_STATUS                    0\n",
       "CASE_SUBMITTED                 0\n",
       "DECISION_DATE                  0\n",
       "VISA_CLASS                     0\n",
       "EMPLOYMENT_START_DATE          0\n",
       "EMPLOYMENT_END_DATE            0\n",
       "EMPLOYER_CITY                  0\n",
       "AGENT_REPRESENTING_EMPLOYER    0\n",
       "JOB_TITLE                      0\n",
       "SOC_CODE                       0\n",
       "NAICS_CODE                     0\n",
       "TOTAL_WORKERS                  0\n",
       "NEW_EMPLOYMENT                 0\n",
       "CHANGE_PREVIOUS_EMPLOYMENT     0\n",
       "NEW_CONCURRENT_EMPLOYMENT      0\n",
       "CHANGE_EMPLOYER                0\n",
       "AMENDED_PETITION               0\n",
       "FULL_TIME_POSITION             0\n",
       "PREVAILING_WAGE                0\n",
       "PW_UNIT_OF_PAY                 0\n",
       "PW_WAGE_LEVEL                  0\n",
       "PW_SOURCE                      0\n",
       "PW_SOURCE_YEAR                 0\n",
       "PW_SOURCE_OTHER                0\n",
       "WAGE_RATE_OF_PAY_FROM          0\n",
       "WAGE_RATE_OF_PAY_TO            0\n",
       "WAGE_UNIT_OF_PAY               0\n",
       "H1B_DEPENDENT                  0\n",
       "WILLFUL_VIOLATOR               0\n",
       "SUPPORT_H1B                    0\n",
       "WORKSITE_STATE                 0\n",
       "dtype: int64"
      ]
     },
     "execution_count": 170,
     "metadata": {},
     "output_type": "execute_result"
    }
   ],
   "source": [
    "df.isna().sum()"
   ]
  },
  {
   "cell_type": "code",
   "execution_count": 171,
   "metadata": {},
   "outputs": [
    {
     "data": {
      "text/plain": [
       "(517779, 32)"
      ]
     },
     "execution_count": 171,
     "metadata": {},
     "output_type": "execute_result"
    }
   ],
   "source": [
    "df.shape"
   ]
  },
  {
   "cell_type": "code",
   "execution_count": 173,
   "metadata": {},
   "outputs": [],
   "source": [
    "import datetime\n",
    "df['EMPLOYEMENT_AGE'] = abs((pd.to_datetime(df['EMPLOYMENT_START_DATE'])-pd.to_datetime(df['EMPLOYMENT_END_DATE'])).dt.days)"
   ]
  },
  {
   "cell_type": "code",
   "execution_count": 175,
   "metadata": {},
   "outputs": [],
   "source": [
    "df.drop(['EMPLOYMENT_START_DATE', 'EMPLOYMENT_END_DATE'],1 , inplace = True)"
   ]
  },
  {
   "cell_type": "code",
   "execution_count": 176,
   "metadata": {},
   "outputs": [
    {
     "data": {
      "text/plain": [
       "(517779, 31)"
      ]
     },
     "execution_count": 176,
     "metadata": {},
     "output_type": "execute_result"
    }
   ],
   "source": [
    "df.shape"
   ]
  },
  {
   "cell_type": "code",
   "execution_count": 184,
   "metadata": {
    "collapsed": true
   },
   "outputs": [
    {
     "name": "stderr",
     "output_type": "stream",
     "text": [
      "C:\\Users\\dell1\\Anaconda3\\lib\\site-packages\\ipykernel_launcher.py:1: UserWarning: Boolean Series key will be reindexed to match DataFrame index.\n",
      "  \"\"\"Entry point for launching an IPython kernel.\n",
      "C:\\Users\\dell1\\Anaconda3\\lib\\site-packages\\ipykernel_launcher.py:2: UserWarning: Boolean Series key will be reindexed to match DataFrame index.\n",
      "  \n",
      "C:\\Users\\dell1\\Anaconda3\\lib\\site-packages\\ipykernel_launcher.py:3: UserWarning: Boolean Series key will be reindexed to match DataFrame index.\n",
      "  This is separate from the ipykernel package so we can avoid doing imports until\n",
      "C:\\Users\\dell1\\Anaconda3\\lib\\site-packages\\ipykernel_launcher.py:4: UserWarning: Boolean Series key will be reindexed to match DataFrame index.\n",
      "  after removing the cwd from sys.path.\n"
     ]
    }
   ],
   "source": [
    "df_1 = df.iloc[:10000, :][df['CASE_STATUS'] == 'CERTIFIED']\n",
    "df_2 = df.iloc[:10000, :][df['CASE_STATUS'] == 'CERTIFIED-WITHDRAWN']\n",
    "df_3 = df.iloc[:8480, :][df['CASE_STATUS'] == 'DENIED']\n",
    "df_4 = df.iloc[:10000, :][df['CASE_STATUS'] == 'WITHDRAWN']"
   ]
  },
  {
   "cell_type": "code",
   "execution_count": 185,
   "metadata": {
    "collapsed": true
   },
   "outputs": [
    {
     "data": {
      "text/html": [
       "<div>\n",
       "<style scoped>\n",
       "    .dataframe tbody tr th:only-of-type {\n",
       "        vertical-align: middle;\n",
       "    }\n",
       "\n",
       "    .dataframe tbody tr th {\n",
       "        vertical-align: top;\n",
       "    }\n",
       "\n",
       "    .dataframe thead th {\n",
       "        text-align: right;\n",
       "    }\n",
       "</style>\n",
       "<table border=\"1\" class=\"dataframe\">\n",
       "  <thead>\n",
       "    <tr style=\"text-align: right;\">\n",
       "      <th></th>\n",
       "      <th>CASE_NUMBER</th>\n",
       "      <th>CASE_STATUS</th>\n",
       "      <th>CASE_SUBMITTED</th>\n",
       "      <th>DECISION_DATE</th>\n",
       "      <th>VISA_CLASS</th>\n",
       "      <th>EMPLOYER_CITY</th>\n",
       "      <th>AGENT_REPRESENTING_EMPLOYER</th>\n",
       "      <th>JOB_TITLE</th>\n",
       "      <th>SOC_CODE</th>\n",
       "      <th>NAICS_CODE</th>\n",
       "      <th>...</th>\n",
       "      <th>PW_SOURCE_YEAR</th>\n",
       "      <th>PW_SOURCE_OTHER</th>\n",
       "      <th>WAGE_RATE_OF_PAY_FROM</th>\n",
       "      <th>WAGE_RATE_OF_PAY_TO</th>\n",
       "      <th>WAGE_UNIT_OF_PAY</th>\n",
       "      <th>H1B_DEPENDENT</th>\n",
       "      <th>WILLFUL_VIOLATOR</th>\n",
       "      <th>SUPPORT_H1B</th>\n",
       "      <th>WORKSITE_STATE</th>\n",
       "      <th>EMPLOYEMENT_AGE</th>\n",
       "    </tr>\n",
       "  </thead>\n",
       "  <tbody>\n",
       "    <tr>\n",
       "      <th>194</th>\n",
       "      <td>I-200-09209-039181</td>\n",
       "      <td>CERTIFIED</td>\n",
       "      <td>2016-09-27</td>\n",
       "      <td>2016-10-03</td>\n",
       "      <td>H-1B</td>\n",
       "      <td>NEWARK</td>\n",
       "      <td>Y</td>\n",
       "      <td>HADOOP ADMINISTRATOR</td>\n",
       "      <td>15-1132</td>\n",
       "      <td>541511</td>\n",
       "      <td>...</td>\n",
       "      <td>2016.0</td>\n",
       "      <td>OFLC ONLINE DATA CENTER</td>\n",
       "      <td>102149.0</td>\n",
       "      <td>124675.0</td>\n",
       "      <td>Year</td>\n",
       "      <td>Y</td>\n",
       "      <td>N</td>\n",
       "      <td>Y</td>\n",
       "      <td>CA</td>\n",
       "      <td>1084</td>\n",
       "    </tr>\n",
       "    <tr>\n",
       "      <th>195</th>\n",
       "      <td>I-200-16266-171133</td>\n",
       "      <td>CERTIFIED</td>\n",
       "      <td>2016-09-27</td>\n",
       "      <td>2016-10-03</td>\n",
       "      <td>H-1B</td>\n",
       "      <td>ROCKVILLE</td>\n",
       "      <td>Y</td>\n",
       "      <td>DEVELOPER USER INTERFACE</td>\n",
       "      <td>15-1134</td>\n",
       "      <td>541511</td>\n",
       "      <td>...</td>\n",
       "      <td>2016.0</td>\n",
       "      <td>OFLC ONLINE DATA CENTER</td>\n",
       "      <td>62500.0</td>\n",
       "      <td>94500.0</td>\n",
       "      <td>Year</td>\n",
       "      <td>Y</td>\n",
       "      <td>N</td>\n",
       "      <td>Y</td>\n",
       "      <td>OH</td>\n",
       "      <td>1089</td>\n",
       "    </tr>\n",
       "    <tr>\n",
       "      <th>196</th>\n",
       "      <td>I-200-16266-208642</td>\n",
       "      <td>CERTIFIED</td>\n",
       "      <td>2016-09-27</td>\n",
       "      <td>2016-10-03</td>\n",
       "      <td>H-1B</td>\n",
       "      <td>IRVING</td>\n",
       "      <td>Y</td>\n",
       "      <td>SOLUTION ARCHITECT</td>\n",
       "      <td>15-1132</td>\n",
       "      <td>52429</td>\n",
       "      <td>...</td>\n",
       "      <td>2016.0</td>\n",
       "      <td>OFLC ONLINE DATA CENTER</td>\n",
       "      <td>90664.0</td>\n",
       "      <td>0.0</td>\n",
       "      <td>Year</td>\n",
       "      <td>N</td>\n",
       "      <td>N</td>\n",
       "      <td>NA</td>\n",
       "      <td>TX</td>\n",
       "      <td>1095</td>\n",
       "    </tr>\n",
       "    <tr>\n",
       "      <th>197</th>\n",
       "      <td>I-200-16263-193057</td>\n",
       "      <td>CERTIFIED</td>\n",
       "      <td>2016-09-27</td>\n",
       "      <td>2016-10-03</td>\n",
       "      <td>H-1B</td>\n",
       "      <td>NEW YORK</td>\n",
       "      <td>Y</td>\n",
       "      <td>VICE PRESIDENT</td>\n",
       "      <td>15-1132</td>\n",
       "      <td>523920</td>\n",
       "      <td>...</td>\n",
       "      <td>2016.0</td>\n",
       "      <td>OFLC ONLINE DATA CENTER</td>\n",
       "      <td>117770.0</td>\n",
       "      <td>125000.0</td>\n",
       "      <td>Year</td>\n",
       "      <td>N</td>\n",
       "      <td>N</td>\n",
       "      <td>NA</td>\n",
       "      <td>CA</td>\n",
       "      <td>1093</td>\n",
       "    </tr>\n",
       "    <tr>\n",
       "      <th>198</th>\n",
       "      <td>I-200-16263-433294</td>\n",
       "      <td>CERTIFIED</td>\n",
       "      <td>2016-09-27</td>\n",
       "      <td>2016-10-03</td>\n",
       "      <td>H-1B</td>\n",
       "      <td>BERKELEY</td>\n",
       "      <td>N</td>\n",
       "      <td>ASSOCIATE SPECIALIST STEP II</td>\n",
       "      <td>19-1013</td>\n",
       "      <td>611310</td>\n",
       "      <td>...</td>\n",
       "      <td>2016.0</td>\n",
       "      <td>OFLC ONLINE DATA CENTER</td>\n",
       "      <td>66414.0</td>\n",
       "      <td>0.0</td>\n",
       "      <td>Year</td>\n",
       "      <td>N</td>\n",
       "      <td>N</td>\n",
       "      <td>NA</td>\n",
       "      <td>CA</td>\n",
       "      <td>297</td>\n",
       "    </tr>\n",
       "  </tbody>\n",
       "</table>\n",
       "<p>5 rows × 31 columns</p>\n",
       "</div>"
      ],
      "text/plain": [
       "            CASE_NUMBER CASE_STATUS CASE_SUBMITTED DECISION_DATE VISA_CLASS  \\\n",
       "194  I-200-09209-039181   CERTIFIED     2016-09-27    2016-10-03       H-1B   \n",
       "195  I-200-16266-171133   CERTIFIED     2016-09-27    2016-10-03       H-1B   \n",
       "196  I-200-16266-208642   CERTIFIED     2016-09-27    2016-10-03       H-1B   \n",
       "197  I-200-16263-193057   CERTIFIED     2016-09-27    2016-10-03       H-1B   \n",
       "198  I-200-16263-433294   CERTIFIED     2016-09-27    2016-10-03       H-1B   \n",
       "\n",
       "    EMPLOYER_CITY AGENT_REPRESENTING_EMPLOYER                     JOB_TITLE  \\\n",
       "194        NEWARK                           Y          HADOOP ADMINISTRATOR   \n",
       "195     ROCKVILLE                           Y      DEVELOPER USER INTERFACE   \n",
       "196        IRVING                           Y            SOLUTION ARCHITECT   \n",
       "197      NEW YORK                           Y                VICE PRESIDENT   \n",
       "198      BERKELEY                           N  ASSOCIATE SPECIALIST STEP II   \n",
       "\n",
       "    SOC_CODE NAICS_CODE       ...        PW_SOURCE_YEAR  \\\n",
       "194  15-1132     541511       ...                2016.0   \n",
       "195  15-1134     541511       ...                2016.0   \n",
       "196  15-1132      52429       ...                2016.0   \n",
       "197  15-1132     523920       ...                2016.0   \n",
       "198  19-1013     611310       ...                2016.0   \n",
       "\n",
       "             PW_SOURCE_OTHER  WAGE_RATE_OF_PAY_FROM  WAGE_RATE_OF_PAY_TO  \\\n",
       "194  OFLC ONLINE DATA CENTER               102149.0             124675.0   \n",
       "195  OFLC ONLINE DATA CENTER                62500.0              94500.0   \n",
       "196  OFLC ONLINE DATA CENTER                90664.0                  0.0   \n",
       "197  OFLC ONLINE DATA CENTER               117770.0             125000.0   \n",
       "198  OFLC ONLINE DATA CENTER                66414.0                  0.0   \n",
       "\n",
       "     WAGE_UNIT_OF_PAY  H1B_DEPENDENT WILLFUL_VIOLATOR  SUPPORT_H1B  \\\n",
       "194              Year              Y                N            Y   \n",
       "195              Year              Y                N            Y   \n",
       "196              Year              N                N           NA   \n",
       "197              Year              N                N           NA   \n",
       "198              Year              N                N           NA   \n",
       "\n",
       "    WORKSITE_STATE EMPLOYEMENT_AGE  \n",
       "194             CA            1084  \n",
       "195             OH            1089  \n",
       "196             TX            1095  \n",
       "197             CA            1093  \n",
       "198             CA             297  \n",
       "\n",
       "[5 rows x 31 columns]"
      ]
     },
     "execution_count": 185,
     "metadata": {},
     "output_type": "execute_result"
    }
   ],
   "source": [
    "df_1.head()"
   ]
  },
  {
   "cell_type": "code",
   "execution_count": 186,
   "metadata": {},
   "outputs": [],
   "source": [
    "df_new = pd.concat([df_1, df_2, df_3, df_4])"
   ]
  },
  {
   "cell_type": "code",
   "execution_count": 187,
   "metadata": {
    "collapsed": true
   },
   "outputs": [
    {
     "data": {
      "text/html": [
       "<div>\n",
       "<style scoped>\n",
       "    .dataframe tbody tr th:only-of-type {\n",
       "        vertical-align: middle;\n",
       "    }\n",
       "\n",
       "    .dataframe tbody tr th {\n",
       "        vertical-align: top;\n",
       "    }\n",
       "\n",
       "    .dataframe thead th {\n",
       "        text-align: right;\n",
       "    }\n",
       "</style>\n",
       "<table border=\"1\" class=\"dataframe\">\n",
       "  <thead>\n",
       "    <tr style=\"text-align: right;\">\n",
       "      <th></th>\n",
       "      <th>CASE_NUMBER</th>\n",
       "      <th>CASE_STATUS</th>\n",
       "      <th>CASE_SUBMITTED</th>\n",
       "      <th>DECISION_DATE</th>\n",
       "      <th>VISA_CLASS</th>\n",
       "      <th>EMPLOYER_CITY</th>\n",
       "      <th>AGENT_REPRESENTING_EMPLOYER</th>\n",
       "      <th>JOB_TITLE</th>\n",
       "      <th>SOC_CODE</th>\n",
       "      <th>NAICS_CODE</th>\n",
       "      <th>...</th>\n",
       "      <th>PW_SOURCE_YEAR</th>\n",
       "      <th>PW_SOURCE_OTHER</th>\n",
       "      <th>WAGE_RATE_OF_PAY_FROM</th>\n",
       "      <th>WAGE_RATE_OF_PAY_TO</th>\n",
       "      <th>WAGE_UNIT_OF_PAY</th>\n",
       "      <th>H1B_DEPENDENT</th>\n",
       "      <th>WILLFUL_VIOLATOR</th>\n",
       "      <th>SUPPORT_H1B</th>\n",
       "      <th>WORKSITE_STATE</th>\n",
       "      <th>EMPLOYEMENT_AGE</th>\n",
       "    </tr>\n",
       "  </thead>\n",
       "  <tbody>\n",
       "    <tr>\n",
       "      <th>194</th>\n",
       "      <td>I-200-09209-039181</td>\n",
       "      <td>CERTIFIED</td>\n",
       "      <td>2016-09-27</td>\n",
       "      <td>2016-10-03</td>\n",
       "      <td>H-1B</td>\n",
       "      <td>NEWARK</td>\n",
       "      <td>Y</td>\n",
       "      <td>HADOOP ADMINISTRATOR</td>\n",
       "      <td>15-1132</td>\n",
       "      <td>541511</td>\n",
       "      <td>...</td>\n",
       "      <td>2016.0</td>\n",
       "      <td>OFLC ONLINE DATA CENTER</td>\n",
       "      <td>102149.0</td>\n",
       "      <td>124675.0</td>\n",
       "      <td>Year</td>\n",
       "      <td>Y</td>\n",
       "      <td>N</td>\n",
       "      <td>Y</td>\n",
       "      <td>CA</td>\n",
       "      <td>1084</td>\n",
       "    </tr>\n",
       "    <tr>\n",
       "      <th>195</th>\n",
       "      <td>I-200-16266-171133</td>\n",
       "      <td>CERTIFIED</td>\n",
       "      <td>2016-09-27</td>\n",
       "      <td>2016-10-03</td>\n",
       "      <td>H-1B</td>\n",
       "      <td>ROCKVILLE</td>\n",
       "      <td>Y</td>\n",
       "      <td>DEVELOPER USER INTERFACE</td>\n",
       "      <td>15-1134</td>\n",
       "      <td>541511</td>\n",
       "      <td>...</td>\n",
       "      <td>2016.0</td>\n",
       "      <td>OFLC ONLINE DATA CENTER</td>\n",
       "      <td>62500.0</td>\n",
       "      <td>94500.0</td>\n",
       "      <td>Year</td>\n",
       "      <td>Y</td>\n",
       "      <td>N</td>\n",
       "      <td>Y</td>\n",
       "      <td>OH</td>\n",
       "      <td>1089</td>\n",
       "    </tr>\n",
       "    <tr>\n",
       "      <th>196</th>\n",
       "      <td>I-200-16266-208642</td>\n",
       "      <td>CERTIFIED</td>\n",
       "      <td>2016-09-27</td>\n",
       "      <td>2016-10-03</td>\n",
       "      <td>H-1B</td>\n",
       "      <td>IRVING</td>\n",
       "      <td>Y</td>\n",
       "      <td>SOLUTION ARCHITECT</td>\n",
       "      <td>15-1132</td>\n",
       "      <td>52429</td>\n",
       "      <td>...</td>\n",
       "      <td>2016.0</td>\n",
       "      <td>OFLC ONLINE DATA CENTER</td>\n",
       "      <td>90664.0</td>\n",
       "      <td>0.0</td>\n",
       "      <td>Year</td>\n",
       "      <td>N</td>\n",
       "      <td>N</td>\n",
       "      <td>NA</td>\n",
       "      <td>TX</td>\n",
       "      <td>1095</td>\n",
       "    </tr>\n",
       "    <tr>\n",
       "      <th>197</th>\n",
       "      <td>I-200-16263-193057</td>\n",
       "      <td>CERTIFIED</td>\n",
       "      <td>2016-09-27</td>\n",
       "      <td>2016-10-03</td>\n",
       "      <td>H-1B</td>\n",
       "      <td>NEW YORK</td>\n",
       "      <td>Y</td>\n",
       "      <td>VICE PRESIDENT</td>\n",
       "      <td>15-1132</td>\n",
       "      <td>523920</td>\n",
       "      <td>...</td>\n",
       "      <td>2016.0</td>\n",
       "      <td>OFLC ONLINE DATA CENTER</td>\n",
       "      <td>117770.0</td>\n",
       "      <td>125000.0</td>\n",
       "      <td>Year</td>\n",
       "      <td>N</td>\n",
       "      <td>N</td>\n",
       "      <td>NA</td>\n",
       "      <td>CA</td>\n",
       "      <td>1093</td>\n",
       "    </tr>\n",
       "    <tr>\n",
       "      <th>198</th>\n",
       "      <td>I-200-16263-433294</td>\n",
       "      <td>CERTIFIED</td>\n",
       "      <td>2016-09-27</td>\n",
       "      <td>2016-10-03</td>\n",
       "      <td>H-1B</td>\n",
       "      <td>BERKELEY</td>\n",
       "      <td>N</td>\n",
       "      <td>ASSOCIATE SPECIALIST STEP II</td>\n",
       "      <td>19-1013</td>\n",
       "      <td>611310</td>\n",
       "      <td>...</td>\n",
       "      <td>2016.0</td>\n",
       "      <td>OFLC ONLINE DATA CENTER</td>\n",
       "      <td>66414.0</td>\n",
       "      <td>0.0</td>\n",
       "      <td>Year</td>\n",
       "      <td>N</td>\n",
       "      <td>N</td>\n",
       "      <td>NA</td>\n",
       "      <td>CA</td>\n",
       "      <td>297</td>\n",
       "    </tr>\n",
       "  </tbody>\n",
       "</table>\n",
       "<p>5 rows × 31 columns</p>\n",
       "</div>"
      ],
      "text/plain": [
       "            CASE_NUMBER CASE_STATUS CASE_SUBMITTED DECISION_DATE VISA_CLASS  \\\n",
       "194  I-200-09209-039181   CERTIFIED     2016-09-27    2016-10-03       H-1B   \n",
       "195  I-200-16266-171133   CERTIFIED     2016-09-27    2016-10-03       H-1B   \n",
       "196  I-200-16266-208642   CERTIFIED     2016-09-27    2016-10-03       H-1B   \n",
       "197  I-200-16263-193057   CERTIFIED     2016-09-27    2016-10-03       H-1B   \n",
       "198  I-200-16263-433294   CERTIFIED     2016-09-27    2016-10-03       H-1B   \n",
       "\n",
       "    EMPLOYER_CITY AGENT_REPRESENTING_EMPLOYER                     JOB_TITLE  \\\n",
       "194        NEWARK                           Y          HADOOP ADMINISTRATOR   \n",
       "195     ROCKVILLE                           Y      DEVELOPER USER INTERFACE   \n",
       "196        IRVING                           Y            SOLUTION ARCHITECT   \n",
       "197      NEW YORK                           Y                VICE PRESIDENT   \n",
       "198      BERKELEY                           N  ASSOCIATE SPECIALIST STEP II   \n",
       "\n",
       "    SOC_CODE NAICS_CODE       ...        PW_SOURCE_YEAR  \\\n",
       "194  15-1132     541511       ...                2016.0   \n",
       "195  15-1134     541511       ...                2016.0   \n",
       "196  15-1132      52429       ...                2016.0   \n",
       "197  15-1132     523920       ...                2016.0   \n",
       "198  19-1013     611310       ...                2016.0   \n",
       "\n",
       "             PW_SOURCE_OTHER  WAGE_RATE_OF_PAY_FROM  WAGE_RATE_OF_PAY_TO  \\\n",
       "194  OFLC ONLINE DATA CENTER               102149.0             124675.0   \n",
       "195  OFLC ONLINE DATA CENTER                62500.0              94500.0   \n",
       "196  OFLC ONLINE DATA CENTER                90664.0                  0.0   \n",
       "197  OFLC ONLINE DATA CENTER               117770.0             125000.0   \n",
       "198  OFLC ONLINE DATA CENTER                66414.0                  0.0   \n",
       "\n",
       "     WAGE_UNIT_OF_PAY  H1B_DEPENDENT WILLFUL_VIOLATOR  SUPPORT_H1B  \\\n",
       "194              Year              Y                N            Y   \n",
       "195              Year              Y                N            Y   \n",
       "196              Year              N                N           NA   \n",
       "197              Year              N                N           NA   \n",
       "198              Year              N                N           NA   \n",
       "\n",
       "    WORKSITE_STATE EMPLOYEMENT_AGE  \n",
       "194             CA            1084  \n",
       "195             OH            1089  \n",
       "196             TX            1095  \n",
       "197             CA            1093  \n",
       "198             CA             297  \n",
       "\n",
       "[5 rows x 31 columns]"
      ]
     },
     "execution_count": 187,
     "metadata": {},
     "output_type": "execute_result"
    }
   ],
   "source": [
    "df_new.head()"
   ]
  },
  {
   "cell_type": "code",
   "execution_count": 239,
   "metadata": {},
   "outputs": [],
   "source": [
    "df_new['DECISION_TIME'] = abs((pd.to_datetime(df_new['CASE_SUBMITTED'])-pd.to_datetime(df_new['DECISION_DATE'])).dt.days)"
   ]
  },
  {
   "cell_type": "code",
   "execution_count": 240,
   "metadata": {},
   "outputs": [],
   "source": [
    "df_new.drop(['CASE_SUBMITTED', 'DECISION_DATE'], 1, inplace = True)"
   ]
  },
  {
   "cell_type": "code",
   "execution_count": 241,
   "metadata": {},
   "outputs": [],
   "source": [
    "X = df_new.drop([\"CASE_STATUS\"], 1)\n",
    "y = df_new['CASE_STATUS']"
   ]
  },
  {
   "cell_type": "code",
   "execution_count": 196,
   "metadata": {
    "collapsed": true
   },
   "outputs": [
    {
     "data": {
      "text/plain": [
       "CASE_NUMBER                    0\n",
       "VISA_CLASS                     0\n",
       "EMPLOYER_CITY                  0\n",
       "AGENT_REPRESENTING_EMPLOYER    0\n",
       "JOB_TITLE                      0\n",
       "SOC_CODE                       0\n",
       "NAICS_CODE                     0\n",
       "TOTAL_WORKERS                  0\n",
       "NEW_EMPLOYMENT                 0\n",
       "CHANGE_PREVIOUS_EMPLOYMENT     0\n",
       "NEW_CONCURRENT_EMPLOYMENT      0\n",
       "CHANGE_EMPLOYER                0\n",
       "AMENDED_PETITION               0\n",
       "FULL_TIME_POSITION             0\n",
       "PREVAILING_WAGE                0\n",
       "PW_UNIT_OF_PAY                 0\n",
       "PW_WAGE_LEVEL                  0\n",
       "PW_SOURCE                      0\n",
       "PW_SOURCE_YEAR                 0\n",
       "PW_SOURCE_OTHER                0\n",
       "WAGE_RATE_OF_PAY_FROM          0\n",
       "WAGE_RATE_OF_PAY_TO            0\n",
       "WAGE_UNIT_OF_PAY               0\n",
       "H1B_DEPENDENT                  0\n",
       "WILLFUL_VIOLATOR               0\n",
       "SUPPORT_H1B                    0\n",
       "WORKSITE_STATE                 0\n",
       "EMPLOYEMENT_AGE                0\n",
       "DECISION_TIME                  0\n",
       "dtype: int64"
      ]
     },
     "execution_count": 196,
     "metadata": {},
     "output_type": "execute_result"
    }
   ],
   "source": [
    "X.isna().sum()"
   ]
  },
  {
   "cell_type": "code",
   "execution_count": 242,
   "metadata": {},
   "outputs": [],
   "source": [
    "X.drop(['CASE_NUMBER'],1, inplace = True)"
   ]
  },
  {
   "cell_type": "code",
   "execution_count": 198,
   "metadata": {
    "collapsed": true
   },
   "outputs": [
    {
     "data": {
      "text/plain": [
       "VISA_CLASS                      object\n",
       "EMPLOYER_CITY                   object\n",
       "AGENT_REPRESENTING_EMPLOYER     object\n",
       "JOB_TITLE                       object\n",
       "SOC_CODE                        object\n",
       "NAICS_CODE                      object\n",
       "TOTAL_WORKERS                    int64\n",
       "NEW_EMPLOYMENT                   int64\n",
       "CHANGE_PREVIOUS_EMPLOYMENT       int64\n",
       "NEW_CONCURRENT_EMPLOYMENT        int64\n",
       "CHANGE_EMPLOYER                  int64\n",
       "AMENDED_PETITION                 int64\n",
       "FULL_TIME_POSITION              object\n",
       "PREVAILING_WAGE                float64\n",
       "PW_UNIT_OF_PAY                  object\n",
       "PW_WAGE_LEVEL                   object\n",
       "PW_SOURCE                       object\n",
       "PW_SOURCE_YEAR                 float64\n",
       "PW_SOURCE_OTHER                 object\n",
       "WAGE_RATE_OF_PAY_FROM          float64\n",
       "WAGE_RATE_OF_PAY_TO            float64\n",
       "WAGE_UNIT_OF_PAY                object\n",
       "H1B_DEPENDENT                   object\n",
       "WILLFUL_VIOLATOR                object\n",
       "SUPPORT_H1B                     object\n",
       "WORKSITE_STATE                  object\n",
       "EMPLOYEMENT_AGE                  int64\n",
       "DECISION_TIME                    int64\n",
       "dtype: object"
      ]
     },
     "execution_count": 198,
     "metadata": {},
     "output_type": "execute_result"
    }
   ],
   "source": [
    "X.dtypes"
   ]
  },
  {
   "cell_type": "code",
   "execution_count": 243,
   "metadata": {
    "collapsed": true
   },
   "outputs": [
    {
     "data": {
      "text/plain": [
       "H-1B               9961\n",
       "E-3 Australian       18\n",
       "H-1B1 Chile           3\n",
       "H-1B1 Singapore       2\n",
       "Name: VISA_CLASS, dtype: int64"
      ]
     },
     "execution_count": 243,
     "metadata": {},
     "output_type": "execute_result"
    }
   ],
   "source": [
    "X['VISA_CLASS'].value_counts()"
   ]
  },
  {
   "cell_type": "code",
   "execution_count": 199,
   "metadata": {},
   "outputs": [],
   "source": [
    "from sklearn.preprocessing import LabelEncoder"
   ]
  },
  {
   "cell_type": "code",
   "execution_count": 208,
   "metadata": {},
   "outputs": [],
   "source": [
    "le = LabelEncoder()"
   ]
  },
  {
   "cell_type": "code",
   "execution_count": 202,
   "metadata": {},
   "outputs": [],
   "source": [
    "from sklearn.tree import DecisionTreeClassifier"
   ]
  },
  {
   "cell_type": "code",
   "execution_count": 203,
   "metadata": {},
   "outputs": [],
   "source": [
    "dtc = DecisionTreeClassifier()"
   ]
  },
  {
   "cell_type": "code",
   "execution_count": 204,
   "metadata": {},
   "outputs": [],
   "source": [
    "from sklearn.model_selection import train_test_split"
   ]
  },
  {
   "cell_type": "code",
   "execution_count": 205,
   "metadata": {},
   "outputs": [],
   "source": [
    "X_train, X_test, y_train, y_test = train_test_split(X, y, test_size = 0.3, random_state = 42)"
   ]
  },
  {
   "cell_type": "code",
   "execution_count": 206,
   "metadata": {
    "collapsed": true
   },
   "outputs": [
    {
     "ename": "ValueError",
     "evalue": "could not convert string to float: 'MN'",
     "output_type": "error",
     "traceback": [
      "\u001b[1;31m---------------------------------------------------------------------------\u001b[0m",
      "\u001b[1;31mValueError\u001b[0m                                Traceback (most recent call last)",
      "\u001b[1;32m<ipython-input-206-afa9f1ef8a7b>\u001b[0m in \u001b[0;36m<module>\u001b[1;34m()\u001b[0m\n\u001b[1;32m----> 1\u001b[1;33m \u001b[0mdtc\u001b[0m\u001b[1;33m.\u001b[0m\u001b[0mfit\u001b[0m\u001b[1;33m(\u001b[0m\u001b[0mX_train\u001b[0m\u001b[1;33m,\u001b[0m \u001b[0my_train\u001b[0m\u001b[1;33m)\u001b[0m\u001b[1;33m\u001b[0m\u001b[0m\n\u001b[0m",
      "\u001b[1;32m~\\Anaconda3\\lib\\site-packages\\sklearn\\tree\\tree.py\u001b[0m in \u001b[0;36mfit\u001b[1;34m(self, X, y, sample_weight, check_input, X_idx_sorted)\u001b[0m\n\u001b[0;32m    788\u001b[0m             \u001b[0msample_weight\u001b[0m\u001b[1;33m=\u001b[0m\u001b[0msample_weight\u001b[0m\u001b[1;33m,\u001b[0m\u001b[1;33m\u001b[0m\u001b[0m\n\u001b[0;32m    789\u001b[0m             \u001b[0mcheck_input\u001b[0m\u001b[1;33m=\u001b[0m\u001b[0mcheck_input\u001b[0m\u001b[1;33m,\u001b[0m\u001b[1;33m\u001b[0m\u001b[0m\n\u001b[1;32m--> 790\u001b[1;33m             X_idx_sorted=X_idx_sorted)\n\u001b[0m\u001b[0;32m    791\u001b[0m         \u001b[1;32mreturn\u001b[0m \u001b[0mself\u001b[0m\u001b[1;33m\u001b[0m\u001b[0m\n\u001b[0;32m    792\u001b[0m \u001b[1;33m\u001b[0m\u001b[0m\n",
      "\u001b[1;32m~\\Anaconda3\\lib\\site-packages\\sklearn\\tree\\tree.py\u001b[0m in \u001b[0;36mfit\u001b[1;34m(self, X, y, sample_weight, check_input, X_idx_sorted)\u001b[0m\n\u001b[0;32m    114\u001b[0m         \u001b[0mrandom_state\u001b[0m \u001b[1;33m=\u001b[0m \u001b[0mcheck_random_state\u001b[0m\u001b[1;33m(\u001b[0m\u001b[0mself\u001b[0m\u001b[1;33m.\u001b[0m\u001b[0mrandom_state\u001b[0m\u001b[1;33m)\u001b[0m\u001b[1;33m\u001b[0m\u001b[0m\n\u001b[0;32m    115\u001b[0m         \u001b[1;32mif\u001b[0m \u001b[0mcheck_input\u001b[0m\u001b[1;33m:\u001b[0m\u001b[1;33m\u001b[0m\u001b[0m\n\u001b[1;32m--> 116\u001b[1;33m             \u001b[0mX\u001b[0m \u001b[1;33m=\u001b[0m \u001b[0mcheck_array\u001b[0m\u001b[1;33m(\u001b[0m\u001b[0mX\u001b[0m\u001b[1;33m,\u001b[0m \u001b[0mdtype\u001b[0m\u001b[1;33m=\u001b[0m\u001b[0mDTYPE\u001b[0m\u001b[1;33m,\u001b[0m \u001b[0maccept_sparse\u001b[0m\u001b[1;33m=\u001b[0m\u001b[1;34m\"csc\"\u001b[0m\u001b[1;33m)\u001b[0m\u001b[1;33m\u001b[0m\u001b[0m\n\u001b[0m\u001b[0;32m    117\u001b[0m             \u001b[0my\u001b[0m \u001b[1;33m=\u001b[0m \u001b[0mcheck_array\u001b[0m\u001b[1;33m(\u001b[0m\u001b[0my\u001b[0m\u001b[1;33m,\u001b[0m \u001b[0mensure_2d\u001b[0m\u001b[1;33m=\u001b[0m\u001b[1;32mFalse\u001b[0m\u001b[1;33m,\u001b[0m \u001b[0mdtype\u001b[0m\u001b[1;33m=\u001b[0m\u001b[1;32mNone\u001b[0m\u001b[1;33m)\u001b[0m\u001b[1;33m\u001b[0m\u001b[0m\n\u001b[0;32m    118\u001b[0m             \u001b[1;32mif\u001b[0m \u001b[0missparse\u001b[0m\u001b[1;33m(\u001b[0m\u001b[0mX\u001b[0m\u001b[1;33m)\u001b[0m\u001b[1;33m:\u001b[0m\u001b[1;33m\u001b[0m\u001b[0m\n",
      "\u001b[1;32m~\\Anaconda3\\lib\\site-packages\\sklearn\\utils\\validation.py\u001b[0m in \u001b[0;36mcheck_array\u001b[1;34m(array, accept_sparse, dtype, order, copy, force_all_finite, ensure_2d, allow_nd, ensure_min_samples, ensure_min_features, warn_on_dtype, estimator)\u001b[0m\n\u001b[0;32m    431\u001b[0m                                       force_all_finite)\n\u001b[0;32m    432\u001b[0m     \u001b[1;32melse\u001b[0m\u001b[1;33m:\u001b[0m\u001b[1;33m\u001b[0m\u001b[0m\n\u001b[1;32m--> 433\u001b[1;33m         \u001b[0marray\u001b[0m \u001b[1;33m=\u001b[0m \u001b[0mnp\u001b[0m\u001b[1;33m.\u001b[0m\u001b[0marray\u001b[0m\u001b[1;33m(\u001b[0m\u001b[0marray\u001b[0m\u001b[1;33m,\u001b[0m \u001b[0mdtype\u001b[0m\u001b[1;33m=\u001b[0m\u001b[0mdtype\u001b[0m\u001b[1;33m,\u001b[0m \u001b[0morder\u001b[0m\u001b[1;33m=\u001b[0m\u001b[0morder\u001b[0m\u001b[1;33m,\u001b[0m \u001b[0mcopy\u001b[0m\u001b[1;33m=\u001b[0m\u001b[0mcopy\u001b[0m\u001b[1;33m)\u001b[0m\u001b[1;33m\u001b[0m\u001b[0m\n\u001b[0m\u001b[0;32m    434\u001b[0m \u001b[1;33m\u001b[0m\u001b[0m\n\u001b[0;32m    435\u001b[0m         \u001b[1;32mif\u001b[0m \u001b[0mensure_2d\u001b[0m\u001b[1;33m:\u001b[0m\u001b[1;33m\u001b[0m\u001b[0m\n",
      "\u001b[1;31mValueError\u001b[0m: could not convert string to float: 'MN'"
     ]
    }
   ],
   "source": [
    "dtc.fit(X_train, y_train)"
   ]
  },
  {
   "cell_type": "code",
   "execution_count": 244,
   "metadata": {},
   "outputs": [],
   "source": [
    "obj_col = X.columns[X.dtypes == 'object']"
   ]
  },
  {
   "cell_type": "code",
   "execution_count": 213,
   "metadata": {
    "collapsed": true
   },
   "outputs": [
    {
     "data": {
      "text/plain": [
       "Index(['VISA_CLASS', 'EMPLOYER_CITY', 'AGENT_REPRESENTING_EMPLOYER',\n",
       "       'JOB_TITLE', 'SOC_CODE', 'NAICS_CODE', 'FULL_TIME_POSITION',\n",
       "       'PW_UNIT_OF_PAY', 'PW_WAGE_LEVEL', 'PW_SOURCE', 'PW_SOURCE_OTHER',\n",
       "       'WAGE_UNIT_OF_PAY', 'H1B_DEPENDENT', 'WILLFUL_VIOLATOR', 'SUPPORT_H1B',\n",
       "       'WORKSITE_STATE'],\n",
       "      dtype='object')"
      ]
     },
     "execution_count": 213,
     "metadata": {},
     "output_type": "execute_result"
    }
   ],
   "source": [
    "obj_col"
   ]
  },
  {
   "cell_type": "code",
   "execution_count": 245,
   "metadata": {},
   "outputs": [
    {
     "name": "stdout",
     "output_type": "stream",
     "text": [
      "VISA_CLASS\n",
      "EMPLOYER_CITY\n",
      "AGENT_REPRESENTING_EMPLOYER\n",
      "JOB_TITLE\n",
      "SOC_CODE\n",
      "NAICS_CODE\n",
      "FULL_TIME_POSITION\n",
      "PW_UNIT_OF_PAY\n",
      "PW_WAGE_LEVEL\n",
      "PW_SOURCE\n",
      "PW_SOURCE_OTHER\n",
      "WAGE_UNIT_OF_PAY\n",
      "H1B_DEPENDENT\n",
      "WILLFUL_VIOLATOR\n",
      "SUPPORT_H1B\n",
      "WORKSITE_STATE\n"
     ]
    }
   ],
   "source": [
    "for i in obj_col:\n",
    "    try:\n",
    "        X[i] = le.fit_transform(X[i])\n",
    "        print(i)\n",
    "    except:\n",
    "        print('not cat')"
   ]
  },
  {
   "cell_type": "code",
   "execution_count": 220,
   "metadata": {
    "collapsed": true
   },
   "outputs": [
    {
     "data": {
      "text/html": [
       "<div>\n",
       "<style scoped>\n",
       "    .dataframe tbody tr th:only-of-type {\n",
       "        vertical-align: middle;\n",
       "    }\n",
       "\n",
       "    .dataframe tbody tr th {\n",
       "        vertical-align: top;\n",
       "    }\n",
       "\n",
       "    .dataframe thead th {\n",
       "        text-align: right;\n",
       "    }\n",
       "</style>\n",
       "<table border=\"1\" class=\"dataframe\">\n",
       "  <thead>\n",
       "    <tr style=\"text-align: right;\">\n",
       "      <th></th>\n",
       "      <th>VISA_CLASS</th>\n",
       "      <th>EMPLOYER_CITY</th>\n",
       "      <th>AGENT_REPRESENTING_EMPLOYER</th>\n",
       "      <th>JOB_TITLE</th>\n",
       "      <th>SOC_CODE</th>\n",
       "      <th>NAICS_CODE</th>\n",
       "      <th>TOTAL_WORKERS</th>\n",
       "      <th>NEW_EMPLOYMENT</th>\n",
       "      <th>CHANGE_PREVIOUS_EMPLOYMENT</th>\n",
       "      <th>NEW_CONCURRENT_EMPLOYMENT</th>\n",
       "      <th>...</th>\n",
       "      <th>PW_SOURCE_OTHER</th>\n",
       "      <th>WAGE_RATE_OF_PAY_FROM</th>\n",
       "      <th>WAGE_RATE_OF_PAY_TO</th>\n",
       "      <th>WAGE_UNIT_OF_PAY</th>\n",
       "      <th>H1B_DEPENDENT</th>\n",
       "      <th>WILLFUL_VIOLATOR</th>\n",
       "      <th>SUPPORT_H1B</th>\n",
       "      <th>WORKSITE_STATE</th>\n",
       "      <th>EMPLOYEMENT_AGE</th>\n",
       "      <th>DECISION_TIME</th>\n",
       "    </tr>\n",
       "  </thead>\n",
       "  <tbody>\n",
       "    <tr>\n",
       "      <th>0</th>\n",
       "      <td>1</td>\n",
       "      <td>3575</td>\n",
       "      <td>1</td>\n",
       "      <td>5788</td>\n",
       "      <td>128</td>\n",
       "      <td>522210</td>\n",
       "      <td>1</td>\n",
       "      <td>1</td>\n",
       "      <td>0</td>\n",
       "      <td>0</td>\n",
       "      <td>...</td>\n",
       "      <td>1162</td>\n",
       "      <td>65811.0</td>\n",
       "      <td>67320.0</td>\n",
       "      <td>4</td>\n",
       "      <td>0</td>\n",
       "      <td>0</td>\n",
       "      <td>1</td>\n",
       "      <td>16</td>\n",
       "      <td>1095</td>\n",
       "      <td>220</td>\n",
       "    </tr>\n",
       "    <tr>\n",
       "      <th>1</th>\n",
       "      <td>1</td>\n",
       "      <td>3575</td>\n",
       "      <td>1</td>\n",
       "      <td>52831</td>\n",
       "      <td>167</td>\n",
       "      <td>522210</td>\n",
       "      <td>1</td>\n",
       "      <td>1</td>\n",
       "      <td>0</td>\n",
       "      <td>0</td>\n",
       "      <td>...</td>\n",
       "      <td>1689</td>\n",
       "      <td>53000.0</td>\n",
       "      <td>57200.0</td>\n",
       "      <td>4</td>\n",
       "      <td>0</td>\n",
       "      <td>0</td>\n",
       "      <td>1</td>\n",
       "      <td>16</td>\n",
       "      <td>1095</td>\n",
       "      <td>211</td>\n",
       "    </tr>\n",
       "    <tr>\n",
       "      <th>2</th>\n",
       "      <td>1</td>\n",
       "      <td>4488</td>\n",
       "      <td>1</td>\n",
       "      <td>63</td>\n",
       "      <td>133</td>\n",
       "      <td>541511</td>\n",
       "      <td>2</td>\n",
       "      <td>2</td>\n",
       "      <td>0</td>\n",
       "      <td>0</td>\n",
       "      <td>...</td>\n",
       "      <td>1162</td>\n",
       "      <td>77000.0</td>\n",
       "      <td>0.0</td>\n",
       "      <td>4</td>\n",
       "      <td>1</td>\n",
       "      <td>0</td>\n",
       "      <td>2</td>\n",
       "      <td>7</td>\n",
       "      <td>1095</td>\n",
       "      <td>205</td>\n",
       "    </tr>\n",
       "    <tr>\n",
       "      <th>3</th>\n",
       "      <td>1</td>\n",
       "      <td>2356</td>\n",
       "      <td>0</td>\n",
       "      <td>45858</td>\n",
       "      <td>150</td>\n",
       "      <td>541511</td>\n",
       "      <td>1</td>\n",
       "      <td>1</td>\n",
       "      <td>0</td>\n",
       "      <td>0</td>\n",
       "      <td>...</td>\n",
       "      <td>1162</td>\n",
       "      <td>102000.0</td>\n",
       "      <td>0.0</td>\n",
       "      <td>4</td>\n",
       "      <td>1</td>\n",
       "      <td>0</td>\n",
       "      <td>2</td>\n",
       "      <td>34</td>\n",
       "      <td>1094</td>\n",
       "      <td>3</td>\n",
       "    </tr>\n",
       "    <tr>\n",
       "      <th>4</th>\n",
       "      <td>1</td>\n",
       "      <td>4685</td>\n",
       "      <td>1</td>\n",
       "      <td>5498</td>\n",
       "      <td>89</td>\n",
       "      <td>522110</td>\n",
       "      <td>1</td>\n",
       "      <td>0</td>\n",
       "      <td>0</td>\n",
       "      <td>0</td>\n",
       "      <td>...</td>\n",
       "      <td>1162</td>\n",
       "      <td>132500.0</td>\n",
       "      <td>0.0</td>\n",
       "      <td>4</td>\n",
       "      <td>0</td>\n",
       "      <td>0</td>\n",
       "      <td>1</td>\n",
       "      <td>37</td>\n",
       "      <td>1096</td>\n",
       "      <td>588</td>\n",
       "    </tr>\n",
       "  </tbody>\n",
       "</table>\n",
       "<p>5 rows × 28 columns</p>\n",
       "</div>"
      ],
      "text/plain": [
       "   VISA_CLASS  EMPLOYER_CITY  AGENT_REPRESENTING_EMPLOYER  JOB_TITLE  \\\n",
       "0           1           3575                            1       5788   \n",
       "1           1           3575                            1      52831   \n",
       "2           1           4488                            1         63   \n",
       "3           1           2356                            0      45858   \n",
       "4           1           4685                            1       5498   \n",
       "\n",
       "   SOC_CODE NAICS_CODE  TOTAL_WORKERS  NEW_EMPLOYMENT  \\\n",
       "0       128     522210              1               1   \n",
       "1       167     522210              1               1   \n",
       "2       133     541511              2               2   \n",
       "3       150     541511              1               1   \n",
       "4        89     522110              1               0   \n",
       "\n",
       "   CHANGE_PREVIOUS_EMPLOYMENT  NEW_CONCURRENT_EMPLOYMENT      ...        \\\n",
       "0                           0                          0      ...         \n",
       "1                           0                          0      ...         \n",
       "2                           0                          0      ...         \n",
       "3                           0                          0      ...         \n",
       "4                           0                          0      ...         \n",
       "\n",
       "   PW_SOURCE_OTHER  WAGE_RATE_OF_PAY_FROM  WAGE_RATE_OF_PAY_TO  \\\n",
       "0             1162                65811.0              67320.0   \n",
       "1             1689                53000.0              57200.0   \n",
       "2             1162                77000.0                  0.0   \n",
       "3             1162               102000.0                  0.0   \n",
       "4             1162               132500.0                  0.0   \n",
       "\n",
       "   WAGE_UNIT_OF_PAY  H1B_DEPENDENT  WILLFUL_VIOLATOR  SUPPORT_H1B  \\\n",
       "0                 4              0                 0            1   \n",
       "1                 4              0                 0            1   \n",
       "2                 4              1                 0            2   \n",
       "3                 4              1                 0            2   \n",
       "4                 4              0                 0            1   \n",
       "\n",
       "   WORKSITE_STATE  EMPLOYEMENT_AGE  DECISION_TIME  \n",
       "0              16             1095            220  \n",
       "1              16             1095            211  \n",
       "2               7             1095            205  \n",
       "3              34             1094              3  \n",
       "4              37             1096            588  \n",
       "\n",
       "[5 rows x 28 columns]"
      ]
     },
     "execution_count": 220,
     "metadata": {},
     "output_type": "execute_result"
    }
   ],
   "source": [
    "X.head()"
   ]
  },
  {
   "cell_type": "code",
   "execution_count": 246,
   "metadata": {},
   "outputs": [],
   "source": [
    "y = le.fit_transform(y)"
   ]
  },
  {
   "cell_type": "code",
   "execution_count": 247,
   "metadata": {},
   "outputs": [],
   "source": [
    "X_train, X_test, y_train, y_test = train_test_split(X, y, test_size = 0.3, random_state = 42)"
   ]
  },
  {
   "cell_type": "code",
   "execution_count": 248,
   "metadata": {},
   "outputs": [
    {
     "data": {
      "text/plain": [
       "DecisionTreeClassifier(class_weight=None, criterion='gini', max_depth=None,\n",
       "            max_features=None, max_leaf_nodes=None,\n",
       "            min_impurity_decrease=0.0, min_impurity_split=None,\n",
       "            min_samples_leaf=1, min_samples_split=2,\n",
       "            min_weight_fraction_leaf=0.0, presort=False, random_state=None,\n",
       "            splitter='best')"
      ]
     },
     "execution_count": 248,
     "metadata": {},
     "output_type": "execute_result"
    }
   ],
   "source": [
    "dtc.fit(X_train, y_train)"
   ]
  },
  {
   "cell_type": "code",
   "execution_count": 249,
   "metadata": {},
   "outputs": [
    {
     "data": {
      "text/plain": [
       "0.96194926568758343"
      ]
     },
     "execution_count": 249,
     "metadata": {},
     "output_type": "execute_result"
    }
   ],
   "source": [
    "dtc.score(X_test, y_test)"
   ]
  },
  {
   "cell_type": "code",
   "execution_count": 250,
   "metadata": {},
   "outputs": [],
   "source": [
    "y_pred = dtc.predict(X_test)"
   ]
  },
  {
   "cell_type": "code",
   "execution_count": 227,
   "metadata": {},
   "outputs": [],
   "source": [
    "from sklearn.metrics import classification_report"
   ]
  },
  {
   "cell_type": "code",
   "execution_count": 251,
   "metadata": {},
   "outputs": [
    {
     "name": "stdout",
     "output_type": "stream",
     "text": [
      "             precision    recall  f1-score   support\n",
      "\n",
      "          0       0.99      0.98      0.99      2448\n",
      "          1       0.93      0.95      0.94       420\n",
      "          2       0.26      0.36      0.31        25\n",
      "          3       0.64      0.61      0.63       103\n",
      "\n",
      "avg / total       0.96      0.96      0.96      2996\n",
      "\n"
     ]
    }
   ],
   "source": [
    "print(classification_report(y_test, y_pred))"
   ]
  },
  {
   "cell_type": "code",
   "execution_count": 229,
   "metadata": {},
   "outputs": [],
   "source": [
    "from sklearn.cross_validation import cross_val_score"
   ]
  },
  {
   "cell_type": "code",
   "execution_count": 234,
   "metadata": {},
   "outputs": [
    {
     "data": {
      "text/plain": [
       "array([ 0.95033701,  0.95415041,  0.96093901,  0.95855343,  0.96400912])"
      ]
     },
     "execution_count": 234,
     "metadata": {},
     "output_type": "execute_result"
    }
   ],
   "source": [
    "cross_val_score(dtc, X, y, cv = 5)"
   ]
  },
  {
   "cell_type": "code",
   "execution_count": 252,
   "metadata": {},
   "outputs": [
    {
     "data": {
      "text/plain": [
       "0    5658\n",
       "1    1005\n",
       "3     241\n",
       "2      84\n",
       "dtype: int64"
      ]
     },
     "execution_count": 252,
     "metadata": {},
     "output_type": "execute_result"
    }
   ],
   "source": [
    "pd.Series(y_train).value_counts()"
   ]
  },
  {
   "cell_type": "code",
   "execution_count": null,
   "metadata": {},
   "outputs": [],
   "source": []
  }
 ],
 "metadata": {
  "kernelspec": {
   "display_name": "Python 3",
   "language": "python",
   "name": "python3"
  },
  "language_info": {
   "codemirror_mode": {
    "name": "ipython",
    "version": 3
   },
   "file_extension": ".py",
   "mimetype": "text/x-python",
   "name": "python",
   "nbconvert_exporter": "python",
   "pygments_lexer": "ipython3",
   "version": "3.6.8"
  }
 },
 "nbformat": 4,
 "nbformat_minor": 2
}
